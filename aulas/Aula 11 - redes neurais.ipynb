{
 "cells": [
  {
   "cell_type": "markdown",
   "metadata": {},
   "source": [
    "# Aula 11 - redes neurais\n",
    "\n",
    "Na aula de hoje, vamos explorar os seguintes tópicos em Python:\n",
    "\n",
    "- 1) Introdução\n",
    "- 2) Redes Neurais Artificiais\n",
    "    - 2.1) Como a rede neural é treinada?\n",
    "- 3) O exemplo clássico: MNIST\n",
    "- 4) Outras arquiteturas de RNAs\n",
    "- 5) Quando usar Redes Neurais?"
   ]
  },
  {
   "cell_type": "markdown",
   "metadata": {},
   "source": [
    "____\n",
    "____\n",
    "\n",
    "____"
   ]
  },
  {
   "cell_type": "markdown",
   "metadata": {},
   "source": [
    "Na aula de hoje, usaremos uma nova biblioteca do Python, o [Keras](https://keras.io/)\n",
    "\n",
    "Diferente do sklearn, que é uma biblioteca de propósito geral para Machine Learning, o Keras é uma biblioteca focada em redes neurais.\n",
    "\n",
    "O Keras na verdade é uma biblioteca construída em cima do [TensorFlow](https://www.tensorflow.org/), a principal biblioteca de Redes Neurais em Python.\n",
    "\n",
    "O TF é extremamente poderoso, mas tem uma sintaxe consideravelmente complicada. O objetivo do Keras é facilitar estas complicações, e oferecer funções de alto-nível (mais próxima da linguagem natural) para a construção de redes neurais de forma rápida e simples!\n",
    "\n",
    "<img src=\"https://miro.medium.com/fit/c/1838/551/0*BrC7o-KTt54z948C.jpg\" width=500>\n",
    "\n",
    "Então, no fundo, estaremos usando o tensorflow, mas de forma muito mais amigável com o Keras!\n",
    "\n",
    "Naturalmente, toda facilidade vem com um preço: se você precisar de alguma modificação extremamente específica, será necessário ir diretamente para o TensorFlow. Mas isso é raro: o Keras contém todas as principais arquiteturas de redes neurais do Tensor Flow completamente integradas!\n",
    "\n",
    "\n",
    "Se você não tiver o TensorFlor e o Keras instalados, abra o **Anaconda Prompt** e installe, em sequência, as bibliotecas:\n",
    "\n",
    "`conda install tensorflow`\n",
    "\n",
    "`conda install keras`\n",
    "\n",
    "Ou então (pra quem não usa o anaconda)\n",
    "\n",
    "`pip install tensorflow`\n",
    "\n",
    "`pip install keras`\n",
    "\n",
    "Depois de ter instalado, reinicie o Kernel para o Jupyter reconhecer a instalção!"
   ]
  },
  {
   "cell_type": "markdown",
   "metadata": {},
   "source": [
    "___\n",
    "___\n",
    "___"
   ]
  },
  {
   "cell_type": "markdown",
   "metadata": {},
   "source": [
    "\n",
    "\n",
    "## 1) Introdução\n",
    "\n",
    "Seres humanos são muito bons em aprender! Isto se deve a nosso sistema nervoso, que pode ser entendido como uma grande rede de neurônios interligados.\n",
    "\n",
    "Um dos objetivos da Inteligência Artificial é o de construir sistemas inteligentes, com capacidade cognitiva similar à dos humanos.\n",
    "\n",
    "Assim sendo, faz sentido construirmos um modelo inspirado no sistema nervoso, não é mesmo?\n",
    "\n",
    "Assim nasceram as __Redes Neurais Artificiais (RNAs)__! A imagem a seguir ilustra a inspiração biológica para a construção deste modelo:\n",
    "\n",
    "<img src=\"https://www.ee.co.za/wp-content/uploads/2019/07/Application-of-machine-learning-algorithms-in-boiler-plant-root-cause-analysis-Fig-1.jpg\" width=\"400\" />\n",
    "\n",
    "Vamos entender um pouco melhor como funcionam as RNAs?\n",
    "\n"
   ]
  },
  {
   "cell_type": "markdown",
   "metadata": {},
   "source": [
    "____\n",
    "____\n",
    "____"
   ]
  },
  {
   "cell_type": "markdown",
   "metadata": {},
   "source": [
    "## 2) Redes neurais artificiais\n",
    "\n",
    "Uma RNA é composta pelos seguintes elementos básicos:\n",
    "\n",
    "- **Unidades (ou neurônios)**: são as unidades mínimas de processamento da rede neural, onde as operações matemáticas são realizadas;\n",
    "\n",
    "- **Camadas**: há três tipos de camadas:\n",
    "\n",
    "\t- **Camada de entrada (input layer)**: é a camada de entrada de dados. O número de unidades nesta camada é igual ao número de features do modelo;\n",
    "\n",
    "\t- **Camadas ocultas (hidden layers)**: são as camadas de processamento. O número de camadas ocultas, bem como o número de neurônios em cada uma delas, é variável, dependendo do problema e dos dados. Em geral, a melhor estratégia é experimentar diferentes números de camadas e de neurônios;\n",
    "\n",
    "\t- **Camada de saída (output layer)**: é a camada que dá a resposta da rede neural, isto é, o valor predito por ela. O número de unidades nesta camada depende do tipo de output desejado, e é o que determina o target (variável dependente) do modelo.\n",
    "\t\n",
    "\t\n",
    "<img src=\"https://gadictos.com/wp-content/uploads/2019/05/bp1.png\" width=\"400\" />\n",
    "\n",
    "\t\n",
    "As camadas e neurônios são interligadas entre si através de conexões. A cada conexão, associa-se um **peso** (que denotamos pela letra **W**). O objetivo da RNA é **\"aprender\" os pesos que melhor se ajustam aos dados!**\n",
    "\n",
    "Após treinada, a rede neural faz previsões **passando os dados de input através de todos os nós**, conforme ilustrado a seguir:\n",
    "\n",
    "<img src=\"https://thumbs.gfycat.com/AdorableJoyfulLemming-small.gif\" width=600>\n",
    "\n",
    "<img src=\"https://thumbs.gfycat.com/BouncyGleefulFeline-max-1mb.gif\" width=600>\n",
    "\n",
    "_________\n",
    "\n",
    "### 2.1) Como a rede neural é treinada?\n",
    "\n",
    "A \"aprendizagem\" da Rede Neural a partir dos dados se dá através de duas etapas:\n",
    "\n",
    "- **Forward Propagation**;\n",
    "- **Backward Propagation**.\n",
    "\n",
    "No __forward propagation__, a informação propaga na direção habitual (de frente pra trás) na rede neural: features são lidas na camada de input, passam pelo processamento nas camadas ocultas, e a resposta (target) é predita na camada de output. \n",
    "\n",
    "Para que a predição seja realizada, os neurônios nas camadas ocultas realizam as seguintes duas etapas de cálculo:\n",
    "\n",
    "- Uma combinação linear entre o output (que denotamos pela letra **a**) da camada enterior e os pesos da camada atual. Isto é, se tivermos n ligações. a combinação linear é:\n",
    "\n",
    "![](https://latex.codecogs.com/gif.latex?z%5E%7Batual%7D%20%3D%20W_0%5E%7Batual%7D%20&plus;%20%5Cleft%20%28%20W_1%5E%7Batual%7D%5Ctimes%20a_1%5E%7Banterior%7D%20%5Cright%29%20&plus;%20%5Cleft%28%20W_2%5E%7Batual%7D%20%5Ctimes%20a_2%5E%7Banterior%7D%20%5Cright%20%29%20&plus;%20%5Ccdots%20&plus;%20%5Cleft%20%28%20W_n%5E%7Batual%7D%20%5Ctimes%20a_n%5E%7Banterior%7D%20%5Cright%29)\n",
    "\n",
    "- Aplica-se uma **função de ativação** não-linear à combinação linear acima. As principais funções de ativação utilizadas são:\n",
    "\n",
    "<img src=\"https://cdn-images-1.medium.com/max/1000/1*4ZEDRpFuCIpUjNgjDdT2Lg.png\n",
    "\" width=\"1000\" />\n",
    "\n",
    "O cálculo realizado por um único neurônio é bem parecido com um **perceptron**, ilustrado a seguir:\n",
    "\n",
    "\n",
    "<img src=\"https://img2.gratispng.com/20180619/oav/kisspng-multilayer-perceptron-machine-learning-statistical-5b2996bdb9dcd2.4724873615294522217613.jpg\" width=\"400\" />\n",
    "\n",
    "\n",
    "A escolha das funções de ativação também pode ser variável, mas costuma-se utilizar:\n",
    "\n",
    "- **ReLu** nas camadas ocultas;\n",
    "- **Sigmoid** (para problemas de classificação binários) ou **Softmax** (para probelams de classificação multiclasse) na camada de output.\n",
    "\n",
    "\n",
    "Ao fim do forward propagation, na camada de output, calculamos a **função de perda**, que quantifica qual a **diferença entre as predições feitas pela rede neural e os valores reais do target dos dados**. Cada tipo de problema tem uma função de perda própria.\n",
    "\n",
    "Queremos que as predições sejam sempre o mais próximas o possível dos valores reais!\n",
    "\n",
    "Então, o que fazemos é **minimizar** a função de perda. \n",
    "\n",
    "Isto é feito ao propagarmos a informação na direção contrária (de trás pra frente) na rede neural, o que caracteriza o chamado __backward propagation__. \n",
    "\n",
    "Para minimizar a função de perda, utilizamos um **otimizador**, que são objetos que representam o procedimento matemático de minimização da função de perda.\n",
    "\n",
    "Os principais otimizadores utilizados são: __gradiente descendente (GD)__, **Adam** e **RMSProp** (vale a pena testar cada um deles!)\n",
    "\n",
    "\n",
    "Este processo de forward e backward propagation é feito iterativamente, várias vezes. Cada rodada é chamada de **epoch**.\n",
    "\n",
    "O objetivo do backward propagation é **determinar os pesos que miminizem a função de perda!** A cada epoch, os pesos são **atualizados**, de modo que a função de perda é sempre reduzida em direção ao seu mínimo!\n",
    "\n",
    "Para quem quiser saber mais, segue uma sugestão de leitura adicional: [Neural Networks Explained](https://medium.com/datadriveninvestor/neural-networks-explained-6e21c70d7818)\n",
    "_______\n",
    "\n",
    "Vamos agora ao nosso exemplo prático: construiremos nossa própria rede neural!"
   ]
  },
  {
   "cell_type": "markdown",
   "metadata": {},
   "source": [
    "_______\n",
    "______\n",
    "_____"
   ]
  },
  {
   "cell_type": "markdown",
   "metadata": {},
   "source": [
    "## 3) O exemplo clássico: MNIST\n",
    "\n",
    "Neste exemplo, usaremos o **[MNIST](https://www.kaggle.com/c/digit-recognizer/data)**, o famoso dataset de dígitos (números de 0 a 9) escritos à mão -- caso você queira saber mais, [clique aqui!](http://yann.lecun.com/exdb/mnist/)\n",
    "\n",
    "\n",
    "<img src=\"https://i2.wp.com/syncedreview.com/wp-content/uploads/2019/06/MNIST.png?fit=530%2C297&ssl=1\" width=500>\n",
    "\n",
    "O objetivo do nosso modelo será o de **classificar digítos, com base em imagens**. \n",
    "\n",
    "Assim sendo, temos um **problema de classificação multiclasse** (pois os dados serão classificados em uma dentre 10 classes possíveis, de 0 a 9)."
   ]
  },
  {
   "cell_type": "code",
   "execution_count": 1,
   "metadata": {},
   "outputs": [],
   "source": [
    "# importe as bibliotecas que sempre usamos\n",
    "\n",
    "import numpy as np\n",
    "import pandas as pd\n",
    "\n",
    "import matplotlib.pyplot as plt\n",
    "import seaborn as sns"
   ]
  },
  {
   "cell_type": "markdown",
   "metadata": {},
   "source": [
    "A base do MNIST é composta por imagens de números manuscritos.\n",
    "\n",
    "Cada imagem é uma **matriz 28 x 28**, contendo assim **784 pixels**. \n",
    "\n",
    "As imagens estão em escala de cinza, na qual cada pixel pode variar de **0 a 255**, e foram centralizadas, de forma que o número não fique \"cortado\" por estar na borda. \n",
    "\n",
    "Além disso, a base está dividida em 60 mil casos para treino e 10 mil casos para teste.\n",
    "\n",
    "Na função ``carrega_mnist()`` são passados dois parâmetros:\n",
    "\n",
    "- ``caminho``: o caminho (relativo ou completo) de onde estão os arquivos da base;\n",
    "- ``tipo``: se os arquivos a serem carregados são de treino (train) ou de teste (t10k), sendo por padrão treino.\n",
    "\n",
    "Essa função então lê a base e retorna dois numpy arrays (a = 60000 ou a = 10000, a depender do tipo): \n",
    "\n",
    "- o primeiro da forma (a, 784), que são os 784 pixels da imagem organizados de forma sequencial;\n",
    "- o segundo da forma (a, 1), que é o identificador (label) da imagem, sendo um número que varia de 0 a 9.\n",
    "\n",
    "Para maiores detalhes, verificar a [página da base](http://yann.lecun.com/exdb/mnist/)."
   ]
  },
  {
   "cell_type": "code",
   "execution_count": null,
   "metadata": {},
   "outputs": [],
   "source": [
    "# # pra quem tiver rodando o notebook no colab, é necessário rodas as linhas abaixo, \n",
    "# # pra captar o caminho das bases que foram upadas no drive:\n",
    "\n",
    "# from google.colab import drive\n",
    "# drive.mount('/content/drive')\n",
    "\n",
    "# # o caminho que for captado (como fizemos na aula), deve ser colocado na \n",
    "# # string abaixo, e essa variável deve ser passada como argumento à função abaixo (carrega_mnist())\n",
    "\n",
    "# caminho_pasta = \"caminho_da_pasta\""
   ]
  },
  {
   "cell_type": "code",
   "execution_count": 2,
   "metadata": {},
   "outputs": [],
   "source": [
    "# Necessário para ler a base\n",
    "import os\n",
    "import gzip\n",
    "\n",
    "def carrega_mnist(caminho, tipo = 'train'):\n",
    "    label_caminho = os.path.join(caminho, '%s-labels-idx1-ubyte.gz' % tipo)\n",
    "    imagens_caminho = os.path.join(caminho, '%s-images-idx3-ubyte.gz' % tipo)\n",
    "        \n",
    "    with gzip.open(label_caminho, 'rb') as lbpath:\n",
    "        lbpath.read(8)\n",
    "        buffer = lbpath.read()\n",
    "        labels = np.frombuffer(buffer, dtype=np.uint8)\n",
    "\n",
    "    with gzip.open(imagens_caminho, 'rb') as imgpath:\n",
    "        imgpath.read(16)\n",
    "        buffer = imgpath.read()\n",
    "        imagens = np.frombuffer(buffer, \n",
    "                               dtype=np.uint8).reshape(\n",
    "            len(labels), 784).astype(np.float64)\n",
    " \n",
    "    return imagens, labels\n",
    "\n",
    "X_train, y_train = carrega_mnist(\"../datasets/mnist\")\n",
    "X_test, y_test = carrega_mnist(\"../datasets/mnist\", \"t10k\")"
   ]
  },
  {
   "cell_type": "code",
   "execution_count": 3,
   "metadata": {},
   "outputs": [
    {
     "data": {
      "text/plain": [
       "((60000, 784), (60000,))"
      ]
     },
     "execution_count": 3,
     "metadata": {},
     "output_type": "execute_result"
    }
   ],
   "source": [
    "X_train.shape, y_train.shape"
   ]
  },
  {
   "cell_type": "code",
   "execution_count": 4,
   "metadata": {},
   "outputs": [
    {
     "data": {
      "text/plain": [
       "((10000, 784), (10000,))"
      ]
     },
     "execution_count": 4,
     "metadata": {},
     "output_type": "execute_result"
    }
   ],
   "source": [
    "X_test.shape, y_test.shape"
   ]
  },
  {
   "cell_type": "markdown",
   "metadata": {},
   "source": [
    "Visualizando o dataset"
   ]
  },
  {
   "cell_type": "code",
   "execution_count": 5,
   "metadata": {},
   "outputs": [
    {
     "name": "stdout",
     "output_type": "stream",
     "text": [
      "43o dado de treino; label: 7\n"
     ]
    },
    {
     "data": {
      "image/png": "[encoded data removed]",
      "text/plain": [
       "<Figure size 432x288 with 1 Axes>"
      ]
     },
     "metadata": {
      "needs_background": "light"
     },
     "output_type": "display_data"
    }
   ],
   "source": [
    "# é necessário dar um reshape\n",
    "\n",
    "idx = 42\n",
    "features = X_train[idx]\n",
    "target = y_train[idx]\n",
    "\n",
    "# é necessário dar um reshape\n",
    "img = features.reshape(28,28)\n",
    "\n",
    "print(str(idx+1) + \"o dado de treino; label:\", target)\n",
    "\n",
    "plt.imshow(img, cmap=\"gray\")\n",
    "plt.show()"
   ]
  },
  {
   "cell_type": "markdown",
   "metadata": {},
   "source": [
    "### Pré-processamento dos dados\n",
    "\n",
    "__Rescalamento__\n",
    "\n",
    "É interessante que o os valores sejam rescalados **entre 0 e 1 para que o tempo de treinamento seja otimizado**. \n",
    "\n",
    "Algumas respostas sobre o porquê disso podem ser vistas [nesse link](https://stackoverflow.com/questions/4674623/why-do-we-have-to-normalize-the-input-for-an-artificial-neural-network). \n",
    "\n",
    "Então, fazemos a divisão correpondentes aos pixels das imagens pelo pixel de valor máximo do **conjunto de treino**.\n",
    "\n",
    "Obs: isso também poderia ser feito com o MinMaxScaler!"
   ]
  },
  {
   "cell_type": "code",
   "execution_count": 6,
   "metadata": {},
   "outputs": [
    {
     "data": {
      "text/plain": [
       "255.0"
      ]
     },
     "execution_count": 6,
     "metadata": {},
     "output_type": "execute_result"
    }
   ],
   "source": [
    "np.max(X_train)"
   ]
  },
  {
   "cell_type": "code",
   "execution_count": 7,
   "metadata": {},
   "outputs": [],
   "source": [
    "m = np.max(X_train)\n",
    "\n",
    "X_train = X_train/m\n",
    "X_test = X_test/m"
   ]
  },
  {
   "cell_type": "code",
   "execution_count": 8,
   "metadata": {},
   "outputs": [
    {
     "name": "stdout",
     "output_type": "stream",
     "text": [
      "Vamores máximo e mínimo dos dados de treino: 1.0 0.0\n",
      "Vamores máximo e mínimo dos dados de teste: 1.0 0.0\n"
     ]
    }
   ],
   "source": [
    "print(\"Vamores máximo e mínimo dos dados de treino:\", np.max(X_train), np.min(X_train))\n",
    "print(\"Vamores máximo e mínimo dos dados de teste:\", np.max(X_test), np.min(X_test))"
   ]
  },
  {
   "cell_type": "markdown",
   "metadata": {},
   "source": [
    "#### One Hot Encoder\n",
    "\n",
    "Em modelos de rede neural de classificação, necessariamente **devemos ter o target transformado em variáveis dummy**\n",
    "\n",
    "Isso é necessário para que tenhamos a estrutura de output correta, como vimos no GIF acima.\n",
    "\n",
    "Podemos fazer isso com o One Hot Encoder, como já vimos!\n",
    "\n",
    "Esse tipo de mapeamento é um vetor com a mesma quantidade de classes existentes, com cada posição desse vetor correspondendo a uma das classes! (No nosso caso, como temos 10 classes possíveis, este vetor terá 10 elementos!)"
   ]
  },
  {
   "cell_type": "code",
   "execution_count": 9,
   "metadata": {
    "scrolled": true
   },
   "outputs": [
    {
     "name": "stdout",
     "output_type": "stream",
     "text": [
      "1o dado de treino; label: 5\n"
     ]
    },
    {
     "data": {
      "image/png": "[encoded data removed]",
      "text/plain": [
       "<Figure size 432x288 with 1 Axes>"
      ]
     },
     "metadata": {
      "needs_background": "light"
     },
     "output_type": "display_data"
    },
    {
     "name": "stdout",
     "output_type": "stream",
     "text": [
      "2o dado de treino; label: 0\n"
     ]
    },
    {
     "data": {
      "image/png": "[encoded data removed]",
      "text/plain": [
       "<Figure size 432x288 with 1 Axes>"
      ]
     },
     "metadata": {
      "needs_background": "light"
     },
     "output_type": "display_data"
    },
    {
     "name": "stdout",
     "output_type": "stream",
     "text": [
      "3o dado de treino; label: 4\n"
     ]
    },
    {
     "data": {
      "image/png": "[encoded data removed]",
      "text/plain": [
       "<Figure size 432x288 with 1 Axes>"
      ]
     },
     "metadata": {
      "needs_background": "light"
     },
     "output_type": "display_data"
    },
    {
     "name": "stdout",
     "output_type": "stream",
     "text": [
      "4o dado de treino; label: 1\n"
     ]
    },
    {
     "data": {
      "image/png": "[encoded data removed]",
      "text/plain": [
       "<Figure size 432x288 with 1 Axes>"
      ]
     },
     "metadata": {
      "needs_background": "light"
     },
     "output_type": "display_data"
    },
    {
     "name": "stdout",
     "output_type": "stream",
     "text": [
      "5o dado de treino; label: 9\n"
     ]
    },
    {
     "data": {
      "image/png": "[encoded data removed]",
      "text/plain": [
       "<Figure size 432x288 with 1 Axes>"
      ]
     },
     "metadata": {
      "needs_background": "light"
     },
     "output_type": "display_data"
    }
   ],
   "source": [
    "for idx in range(5):\n",
    "    features = X_train[idx]\n",
    "    target = y_train[idx]\n",
    "\n",
    "    # é necessário dar um reshape\n",
    "    img = features.reshape(28,28)\n",
    "\n",
    "    print(str(idx+1) + \"o dado de treino; label:\", target)\n",
    "\n",
    "    plt.imshow(img, cmap=\"gray\")\n",
    "    plt.show()"
   ]
  },
  {
   "cell_type": "code",
   "execution_count": 10,
   "metadata": {},
   "outputs": [
    {
     "data": {
      "text/plain": [
       "array([5, 0, 4, 1, 9], dtype=uint8)"
      ]
     },
     "execution_count": 10,
     "metadata": {},
     "output_type": "execute_result"
    }
   ],
   "source": [
    "y_train[0:5]"
   ]
  },
  {
   "cell_type": "code",
   "execution_count": 11,
   "metadata": {},
   "outputs": [],
   "source": [
    "from sklearn.preprocessing import OneHotEncoder\n",
    "\n",
    "hot = OneHotEncoder()\n",
    "\n",
    "y_train = hot.fit_transform(y_train.reshape(-1, 1)).toarray()\n",
    "y_test = hot.fit_transform(y_test.reshape(-1, 1)).toarray()"
   ]
  },
  {
   "cell_type": "code",
   "execution_count": 12,
   "metadata": {},
   "outputs": [
    {
     "data": {
      "text/plain": [
       "array([[0., 0., 0., 0., 0., 1., 0., 0., 0., 0.],\n",
       "       [1., 0., 0., 0., 0., 0., 0., 0., 0., 0.],\n",
       "       [0., 0., 0., 0., 1., 0., 0., 0., 0., 0.],\n",
       "       [0., 1., 0., 0., 0., 0., 0., 0., 0., 0.],\n",
       "       [0., 0., 0., 0., 0., 0., 0., 0., 0., 1.]])"
      ]
     },
     "execution_count": 12,
     "metadata": {},
     "output_type": "execute_result"
    }
   ],
   "source": [
    "y_train[0:5]"
   ]
  },
  {
   "cell_type": "markdown",
   "metadata": {},
   "source": [
    "### Conjunto de Validação\n",
    "\n",
    "Em modelos de rede neural, é importante que exista um terceiro conjunto além de treino e teste, o **conjunto de validação**.\n",
    "\n",
    "Durante o treinamento, a depender do caso, **risco de ocorrer overfitting é bastante alto**.\n",
    "\n",
    "Uma forma de verificar e evitar isso é por meio do conjunto de validação, o qual é um subconjunto do conjunto de treino que não é utilizado pelo otimizador.  \n",
    "\n",
    "Espera-se que a o valor da função de perda (loss) vá diminuindo a cada época, tanto para o conjunto de treino como para o conjunto de validação. Porém, se a função de perda diminui para o conjunto de treino e aumenta para o conjunto de validação (ocorrendo assim um descolamento), podemos concluir que está ocorrendo um overfitting para o conjunto de treino.\n",
    "\n",
    "Deve-se então interromper o processo de treinamento. Esse comportamento pode ser visto com mais facilidade nos próximos tópicos.\n",
    "\n",
    "Para fazer a divisão, usamos a função ``train_test_split`` do ``sklearn`` e definimos que o conjunto de validação será 10% do conjunto de treino."
   ]
  },
  {
   "cell_type": "code",
   "execution_count": 13,
   "metadata": {},
   "outputs": [
    {
     "name": "stdout",
     "output_type": "stream",
     "text": [
      "(54000, 784) (6000, 784) (10000, 784) (54000, 10) (6000, 10) (10000, 10)\n"
     ]
    }
   ],
   "source": [
    "from sklearn.model_selection import train_test_split\n",
    "\n",
    "X_train, X_val, y_train, y_val = train_test_split(X_train, y_train, test_size = 0.1, random_state = 42)\n",
    "\n",
    "print(X_train.shape, X_val.shape, X_test.shape, y_train.shape, y_val.shape, y_test.shape)"
   ]
  },
  {
   "cell_type": "markdown",
   "metadata": {},
   "source": [
    "### Arquitetura da Rede\n",
    "\n",
    "Faremos uma rede simples, com:\n",
    "\n",
    "- **3 camadas**;\n",
    "- **25 neurônios cada**; \n",
    "- **Camadas densas**;\n",
    "- **função de ativação ReLu nas camadas escondidas**;\n",
    "- **10 neurônios e ativação Softmax na camda de saída**. \n",
    "\n",
    "Para a construção da rede neural, utilizaremos a biblioteca [Keras](https://keras.io/).\n",
    "\n",
    "Primeiro definimos que nossa rede é do tipo **sequencial**, utilizando a função ``Sequential()``. \n",
    "\n",
    "O Keras funciona de forma super intuitiva: construímos **a arquitetura** de nossa rede neural camada a camada, construindo assim a rede neural da forma que queiramos!\n",
    "\n",
    "[Clique aqui](https://keras.io/api/layers/) para conhecer melhor sobre a estrutura de camadas do Keras, e dar uma olhada nas camadas disponíveis!\n",
    "\n",
    "Dessa forma, utilizamos o método ``.add()`` para adicionar as camadas, uma após a outra, de forma que a saída da camada anterior camada seja a entrada da próxima camada. \n",
    "\n",
    "> A primeira camada adicionada é uma **camada densa (fully connected)** com 25 neurônios. Para isso, é usada a função ``Dense()``, que conecta todos os valores de input e todos o neurônios da camada. \n",
    "Na primeira camada, é necessário **definir a dimensão dos dados de entrada**. Em camadas subsequentes isso não será necessário, já que o Keras automaticamente determinará que a dimensão de entrada será a dimensão da saída da camada anterior. \n",
    "No caso da rede em questão, os **784 pixels da imagem estarão todos conectados, um a um, aos 25 neurônios da primeira camada, produzindo 25 saídas nessa camada**.\n",
    "\n",
    "> Após a camada densa, é necessário inserir **a camada de ativação**, por meio da função ``Activation()``. Ao usar essa função, é necessário definir qual função de fato será usada passando uma string como parâmetro pra função. Dentre as disponíveis no Keras estão ``'tanh'``, ``'sigmoid'``, ``'softmax'`` e ``'relu'``. Nessa camada, a `ReLu` será usada.\n",
    "\n",
    "Esse processo de ``Dense()`` e ``Activation()`` é repetido mais duas vezes com os mesmos parâmetros. \n",
    "\n",
    "> Posteriormente, por ser um problema de classificação com 10 classes diferentes, é importante que a **a camada de saída possua 10 neurônios**. Dessa forma, cada neurônio representará uma classe, e a predição final será a correspondente ao neurônio **com maior valor de saída**. \n",
    "Outro fator importante é o uso de uma **camada de ativação Softmax após essa última camada com 10 neurônios**. \n",
    "A ativação Softmax funciona como uma versão mais generalizada da função sigmóide (ou logística), usada para **predições multiclasse**\n",
    "Ou seja, com valores entre 0 e 1, a saída de cada neurônio pode ser interpretada como a **probabilidade daquela instância pertencer àquela classe**."
   ]
  },
  {
   "cell_type": "code",
   "execution_count": 14,
   "metadata": {},
   "outputs": [],
   "source": [
    "from tensorflow.keras.models import Sequential\n",
    "from tensorflow.keras.layers import Dense, Activation\n",
    "\n",
    "rede_simples = Sequential()\n",
    "\n",
    "# camada de input\n",
    "rede_simples.add(Dense(25,  input_dim = X_train.shape[1]))\n",
    "rede_simples.add(Activation('relu'))\n",
    "\n",
    "# camada oculta\n",
    "rede_simples.add(Dense(25))\n",
    "rede_simples.add(Activation('relu'))\n",
    "\n",
    "# camada oculta\n",
    "rede_simples.add(Dense(25))\n",
    "rede_simples.add(Activation('relu'))\n",
    "\n",
    "# camada de output\n",
    "rede_simples.add(Dense(y_train.shape[1]))\n",
    "rede_simples.add(Activation('softmax'))"
   ]
  },
  {
   "cell_type": "markdown",
   "metadata": {},
   "source": [
    "A rede então deve ser compilada usando o método ``compile()``. Devem ser passados a [função de perda](https://keras.io/losses/) e o [otimizador](https://keras.io/optimizers/) a serem utilizados. \n",
    "\n",
    "Para a função de perda, usamos ``categorial_crossentropy`` por ser um **problema de classificação multiclasse** (não binário). \n",
    "\n",
    "Já o otimizador escolhido foi o ``RMSprop()``.\n",
    "\n",
    "Diferentes funções de perda possuem diferentes propósitos, devendo ser escolhido caso a caso. Já os otimizadores possuem maior liberdade de escolha, não existindo uma regra fechada.\n",
    "\n",
    "A arquitetura da rede pode ser visualizada com o método ``.summary()``."
   ]
  },
  {
   "cell_type": "code",
   "execution_count": 15,
   "metadata": {},
   "outputs": [
    {
     "name": "stdout",
     "output_type": "stream",
     "text": [
      "Model: \"sequential\"\n",
      "_________________________________________________________________\n",
      "Layer (type)                 Output Shape              Param #   \n",
      "=================================================================\n",
      "dense (Dense)                (None, 25)                19625     \n",
      "_________________________________________________________________\n",
      "activation (Activation)      (None, 25)                0         \n",
      "_________________________________________________________________\n",
      "dense_1 (Dense)              (None, 25)                650       \n",
      "_________________________________________________________________\n",
      "activation_1 (Activation)    (None, 25)                0         \n",
      "_________________________________________________________________\n",
      "dense_2 (Dense)              (None, 25)                650       \n",
      "_________________________________________________________________\n",
      "activation_2 (Activation)    (None, 25)                0         \n",
      "_________________________________________________________________\n",
      "dense_3 (Dense)              (None, 10)                260       \n",
      "_________________________________________________________________\n",
      "activation_3 (Activation)    (None, 10)                0         \n",
      "=================================================================\n",
      "Total params: 21,185\n",
      "Trainable params: 21,185\n",
      "Non-trainable params: 0\n",
      "_________________________________________________________________\n"
     ]
    }
   ],
   "source": [
    "from tensorflow.keras.optimizers import RMSprop\n",
    "\n",
    "rede_simples.compile(loss = 'categorical_crossentropy', optimizer = RMSprop())\n",
    "\n",
    "pesos_iniciais = rede_simples.get_weights()\n",
    "\n",
    "rede_simples.summary()"
   ]
  },
  {
   "cell_type": "code",
   "execution_count": 16,
   "metadata": {},
   "outputs": [
    {
     "data": {
      "text/plain": [
       "[array([[ 0.04160589,  0.06937002, -0.04707102, ..., -0.016752  ,\n",
       "         -0.06230255, -0.03667812],\n",
       "        [-0.02018881,  0.04921509,  0.00743126, ...,  0.03626225,\n",
       "         -0.01850114,  0.00607201],\n",
       "        [-0.0640765 ,  0.01632597, -0.08430985, ...,  0.04615444,\n",
       "          0.07607803, -0.05619776],\n",
       "        ...,\n",
       "        [ 0.03903866,  0.023661  ,  0.0331708 , ...,  0.03708903,\n",
       "         -0.08385503, -0.0003648 ],\n",
       "        [ 0.04971953,  0.06452528,  0.00430909, ...,  0.06277137,\n",
       "         -0.02749285, -0.07580841],\n",
       "        [ 0.08084537,  0.05265674, -0.03424742, ..., -0.08255914,\n",
       "         -0.07950155,  0.01590865]], dtype=float32),\n",
       " array([0., 0., 0., 0., 0., 0., 0., 0., 0., 0., 0., 0., 0., 0., 0., 0., 0.,\n",
       "        0., 0., 0., 0., 0., 0., 0., 0.], dtype=float32),\n",
       " array([[-0.22606298, -0.14964718,  0.33568007, -0.3008369 ,  0.00129172,\n",
       "         -0.17545484, -0.2636627 ,  0.19543904, -0.00647476,  0.00820512,\n",
       "          0.09689134, -0.0439254 ,  0.266567  ,  0.1603933 ,  0.09885404,\n",
       "         -0.31701592,  0.10949814,  0.25315005,  0.30272275, -0.00312415,\n",
       "         -0.24795446, -0.33691537,  0.11210635,  0.04971483, -0.0243088 ],\n",
       "        [-0.2588531 ,  0.08054888, -0.06920275, -0.2277461 ,  0.32751286,\n",
       "         -0.00463903,  0.00909215,  0.05045974,  0.25102562,  0.12527081,\n",
       "          0.05911192,  0.18234622,  0.15559489,  0.06356883, -0.2287547 ,\n",
       "         -0.03496194,  0.24761301,  0.07099167,  0.00320178, -0.30297658,\n",
       "         -0.08051866,  0.15260664,  0.07896298, -0.02835062,  0.2891885 ],\n",
       "        [ 0.24723953,  0.18677962, -0.18393451, -0.09763466, -0.2343432 ,\n",
       "         -0.3438747 , -0.01540166,  0.17590159, -0.15301663,  0.32255   ,\n",
       "          0.24576694, -0.19389535,  0.01648873,  0.32467926,  0.12709838,\n",
       "          0.03976688, -0.18230723,  0.25744694,  0.30400354, -0.0666061 ,\n",
       "         -0.15257849,  0.2095272 ,  0.17847669,  0.14667135,  0.27175337],\n",
       "        [ 0.1294423 , -0.05233651, -0.1077127 ,  0.27801585,  0.2834168 ,\n",
       "         -0.32142112,  0.09171069,  0.21224028, -0.06556603, -0.30563855,\n",
       "          0.217381  ,  0.19249445,  0.18902457,  0.21643466, -0.17064749,\n",
       "         -0.09199166, -0.21532604, -0.2750185 , -0.08188993,  0.0763481 ,\n",
       "         -0.33538637, -0.19099717,  0.32209092, -0.31064874,  0.34150732],\n",
       "        [ 0.18475837,  0.22355288, -0.3152264 , -0.23697668, -0.16528876,\n",
       "         -0.02245954,  0.24091226, -0.19278814, -0.33255127, -0.19533762,\n",
       "         -0.23186366,  0.26331174, -0.00128478,  0.11299488,  0.20081246,\n",
       "         -0.04671407,  0.32721847,  0.19745564, -0.32406592, -0.18420714,\n",
       "         -0.01443702,  0.07825181, -0.06591624, -0.21065778,  0.09257931],\n",
       "        [ 0.13517341, -0.21216728,  0.13242918, -0.06635711,  0.26990598,\n",
       "         -0.16043863,  0.32117534,  0.01489636, -0.16928276, -0.1428266 ,\n",
       "         -0.18193078,  0.08874419,  0.08865047, -0.13660562, -0.33288997,\n",
       "          0.33937204,  0.20479196, -0.14880401,  0.01263678, -0.0205223 ,\n",
       "          0.3250581 , -0.22057311, -0.03374761, -0.16469312, -0.23899361],\n",
       "        [ 0.26238602,  0.2950747 ,  0.16185129,  0.08679935,  0.07565209,\n",
       "          0.19586778,  0.24474037,  0.17255461, -0.05142489, -0.14514574,\n",
       "         -0.28432828,  0.11947277, -0.16184144,  0.24582034, -0.05090243,\n",
       "          0.20769465, -0.03724241, -0.3140311 , -0.15708801,  0.03055209,\n",
       "         -0.34088203, -0.34169605,  0.01157168, -0.14152497, -0.07043988],\n",
       "        [-0.34613365,  0.23447478,  0.07073408,  0.01769397, -0.0969888 ,\n",
       "         -0.22905442, -0.02547261,  0.2862367 , -0.02557617, -0.07632324,\n",
       "         -0.17011462,  0.30863363,  0.341384  ,  0.01195565, -0.21366978,\n",
       "          0.18758261, -0.29587603, -0.23740979,  0.20565104, -0.19779429,\n",
       "         -0.20431176, -0.05332619,  0.19486439,  0.1234225 ,  0.10764176],\n",
       "        [-0.258245  ,  0.18762827, -0.33823013,  0.23105294, -0.27901852,\n",
       "          0.0627768 , -0.12600313,  0.2083956 ,  0.09564167, -0.13860473,\n",
       "          0.02916664, -0.3319188 ,  0.07902393,  0.23549384,  0.15286788,\n",
       "         -0.12845425, -0.20649265,  0.05874678, -0.03499621, -0.2600966 ,\n",
       "          0.31717855, -0.04159966, -0.28975612, -0.05711117,  0.02750275],\n",
       "        [ 0.28314197, -0.1392036 ,  0.26444393, -0.20149162,  0.1992951 ,\n",
       "          0.02252132,  0.2558514 ,  0.14692828,  0.23535371,  0.08647519,\n",
       "          0.19689643, -0.15834843,  0.3009513 , -0.3322101 , -0.1290443 ,\n",
       "         -0.2231629 , -0.22177555,  0.13050994,  0.05196768, -0.08912933,\n",
       "          0.2165147 ,  0.09782884, -0.08720973,  0.05228284, -0.28468084],\n",
       "        [-0.23721611, -0.08729416, -0.33062965, -0.3287124 ,  0.04901448,\n",
       "         -0.04682168, -0.08506155, -0.08733281,  0.18879837, -0.28545597,\n",
       "         -0.32445353,  0.191598  ,  0.00826782, -0.22698586, -0.04322049,\n",
       "         -0.10517427, -0.09075752,  0.00809973, -0.04007256, -0.06747803,\n",
       "         -0.01399168, -0.31227967,  0.12475908,  0.22399747, -0.08013794],\n",
       "        [ 0.15363926, -0.01724154,  0.3427773 , -0.26733238,  0.13955608,\n",
       "          0.16882783, -0.325543  ,  0.21378464,  0.16219145,  0.15521526,\n",
       "         -0.17076766,  0.24142069,  0.11286628, -0.18861368,  0.1801067 ,\n",
       "          0.14554358,  0.3010304 , -0.01493973, -0.2651503 , -0.21950711,\n",
       "          0.03337884, -0.18174008,  0.21433234, -0.2911349 , -0.2591392 ],\n",
       "        [ 0.09689274,  0.00861189, -0.1581498 ,  0.04677314,  0.2130844 ,\n",
       "          0.32107168,  0.33119845, -0.18765365, -0.34020406, -0.12393489,\n",
       "         -0.10953076, -0.26461083,  0.32836723, -0.17636012,  0.24514842,\n",
       "         -0.18901804,  0.25538355, -0.2110059 ,  0.13665146, -0.02288479,\n",
       "         -0.00754398, -0.00470817, -0.15841681, -0.32466084, -0.17592587],\n",
       "        [ 0.28339326, -0.10736111,  0.04907748, -0.21987216,  0.10665074,\n",
       "          0.07317984, -0.06407148,  0.05522951, -0.23514779,  0.17893273,\n",
       "         -0.04706791,  0.22493148,  0.25122207,  0.20965642,  0.24816555,\n",
       "         -0.100091  ,  0.00643447,  0.23541272, -0.2818029 ,  0.03605625,\n",
       "          0.19962502,  0.16196507, -0.27131993,  0.01241139, -0.25810444],\n",
       "        [ 0.03721485,  0.03242186, -0.09799525,  0.21546811, -0.23486707,\n",
       "         -0.22459213, -0.14403531, -0.07479075,  0.14547592,  0.27586347,\n",
       "         -0.01375133,  0.11312073, -0.04886135, -0.1491461 , -0.14650585,\n",
       "          0.24650878,  0.2753101 , -0.07897687, -0.2659779 , -0.2518562 ,\n",
       "         -0.22887439,  0.3374632 ,  0.02914706, -0.08122846, -0.26539403],\n",
       "        [-0.31462473,  0.21340394,  0.12634242,  0.17566472, -0.25146356,\n",
       "         -0.04201591, -0.27774101,  0.11567205,  0.04243663, -0.33734575,\n",
       "          0.24268222, -0.03725141,  0.05625767, -0.15665582, -0.24363306,\n",
       "          0.05847546,  0.1538096 ,  0.08018756,  0.19372225, -0.2516054 ,\n",
       "          0.30315566, -0.3298243 ,  0.00953567,  0.00808761, -0.30174598],\n",
       "        [-0.15361921,  0.08975643,  0.04714769, -0.34545895,  0.17226535,\n",
       "          0.15682381,  0.26437634,  0.02910006,  0.2528262 , -0.1985305 ,\n",
       "         -0.27719188,  0.08304974,  0.32340735, -0.32293484,  0.13422942,\n",
       "         -0.22392464, -0.07840303,  0.03771508, -0.16861287,  0.10479668,\n",
       "          0.12661332, -0.34609547,  0.03235769,  0.31931037, -0.30476722],\n",
       "        [-0.25867802,  0.11797953,  0.26943487, -0.05266911,  0.32196838,\n",
       "         -0.14357437, -0.31079635, -0.28347304,  0.01746809,  0.31154293,\n",
       "         -0.21807003, -0.00710592, -0.28736413,  0.06732795, -0.09491751,\n",
       "          0.28600067, -0.32443154,  0.3139773 ,  0.21594018,  0.03803727,\n",
       "          0.30165762, -0.32224992,  0.03205448,  0.12074706,  0.32212406],\n",
       "        [ 0.03360885,  0.22053808,  0.05066636, -0.24768448, -0.34613696,\n",
       "          0.02756727,  0.33787876, -0.30211914, -0.05337873,  0.12301889,\n",
       "         -0.06799942,  0.23691273, -0.10610491,  0.24870944, -0.01560575,\n",
       "          0.3273921 , -0.11815603,  0.24351788,  0.05658531, -0.11143018,\n",
       "         -0.22358832,  0.15844297,  0.33286977,  0.27120686,  0.05347469],\n",
       "        [ 0.25020438,  0.3424092 , -0.14153875, -0.02349719,  0.06159624,\n",
       "         -0.00389042,  0.31816947,  0.21610737,  0.09170631,  0.03649992,\n",
       "         -0.29336888, -0.34622145,  0.09145176,  0.21898216,  0.26251376,\n",
       "         -0.12135139, -0.14515069, -0.13902643, -0.34116822, -0.09864879,\n",
       "         -0.0457049 , -0.02171323, -0.09218499, -0.00667414,  0.27453154],\n",
       "        [ 0.22588718, -0.30607685,  0.08155775,  0.23326927, -0.03103581,\n",
       "         -0.05204821,  0.08605844, -0.23275092, -0.06117296, -0.2309132 ,\n",
       "          0.07801518, -0.01590958, -0.1582774 ,  0.21729189, -0.07426754,\n",
       "         -0.2738865 , -0.17453231,  0.27459067, -0.07686487,  0.16978854,\n",
       "         -0.13654484,  0.19961828, -0.12752587, -0.29671058, -0.3332585 ],\n",
       "        [ 0.29227674,  0.19599557,  0.27144903, -0.16219236, -0.2835316 ,\n",
       "         -0.04688719, -0.2593442 ,  0.16282701, -0.1053374 , -0.06533611,\n",
       "          0.03529271, -0.01387596,  0.1518417 ,  0.27851886, -0.32415107,\n",
       "          0.23580676, -0.05944443,  0.18157434,  0.06376317, -0.05183107,\n",
       "          0.30528027,  0.33523333, -0.22706167,  0.24232203,  0.24746484],\n",
       "        [-0.17658015, -0.02019703,  0.07921672, -0.02047214, -0.3276833 ,\n",
       "          0.00217956,  0.31273097, -0.28673217, -0.29175144,  0.17730725,\n",
       "          0.28132898,  0.27978975,  0.20880544,  0.10652754, -0.04335141,\n",
       "         -0.10522747, -0.29200795, -0.05153871, -0.1203171 ,  0.23909247,\n",
       "         -0.3366738 ,  0.22760856, -0.23479505,  0.06592464, -0.00483114],\n",
       "        [-0.13803552, -0.21526857,  0.23899984,  0.14047608,  0.3231212 ,\n",
       "          0.15485507, -0.13521133,  0.29029208, -0.15919243, -0.20538783,\n",
       "          0.1869623 ,  0.25444508,  0.23951215, -0.08175018, -0.23938146,\n",
       "         -0.26020414, -0.19916141,  0.17038524,  0.10052279, -0.28230184,\n",
       "          0.23431641, -0.2987486 ,  0.12419409,  0.19708121, -0.08280891],\n",
       "        [-0.0803012 , -0.13691162, -0.17340453,  0.20386893,  0.07264721,\n",
       "         -0.22199821, -0.229446  , -0.11657055, -0.01490951, -0.12709291,\n",
       "         -0.30027455, -0.3087572 ,  0.12330243,  0.14099863, -0.14099854,\n",
       "          0.33291   , -0.1335506 , -0.26141515, -0.08705091,  0.01591712,\n",
       "         -0.12034485, -0.17985569,  0.00373855,  0.02457327, -0.17722368]],\n",
       "       dtype=float32),\n",
       " array([0., 0., 0., 0., 0., 0., 0., 0., 0., 0., 0., 0., 0., 0., 0., 0., 0.,\n",
       "        0., 0., 0., 0., 0., 0., 0., 0.], dtype=float32),\n",
       " array([[-0.19283059, -0.27453905, -0.3200326 ,  0.07344636, -0.04126689,\n",
       "          0.03072909, -0.24258757, -0.16265826, -0.29979718, -0.323744  ,\n",
       "         -0.07862744,  0.17805827, -0.34234455, -0.11567989,  0.33425033,\n",
       "         -0.24598524, -0.3350759 , -0.18559359, -0.33705825, -0.02232316,\n",
       "         -0.00624517, -0.19313824,  0.18726647, -0.14017107, -0.02514049],\n",
       "        [-0.2564466 ,  0.20023799,  0.01224637, -0.21386634,  0.04656237,\n",
       "         -0.13250169,  0.15098664, -0.14155701,  0.07137671,  0.18258208,\n",
       "          0.26947033, -0.2841583 ,  0.14316523, -0.18211322, -0.07363549,\n",
       "          0.07216901,  0.26202202, -0.1708396 , -0.16543785, -0.24538936,\n",
       "         -0.22787759,  0.22229183, -0.25409746, -0.06026274,  0.02296802],\n",
       "        [-0.17389703, -0.06047657,  0.11458886, -0.31700146,  0.25975507,\n",
       "          0.08521569, -0.01104954,  0.32826167, -0.07608792,  0.0656397 ,\n",
       "         -0.1739379 , -0.17883965, -0.16279784, -0.08786187, -0.17486614,\n",
       "         -0.2467696 ,  0.28870803,  0.26995778,  0.08106261, -0.19358687,\n",
       "         -0.08789805,  0.32584995, -0.03719079, -0.28432003, -0.20587851],\n",
       "        [ 0.29445535,  0.2730801 ,  0.16929907,  0.08271295, -0.22191215,\n",
       "         -0.05544093, -0.04487172, -0.13860424, -0.14567168,  0.04988953,\n",
       "          0.07802394, -0.2702474 ,  0.10762021,  0.32038534, -0.34447563,\n",
       "         -0.08224654, -0.20626338,  0.15895414,  0.02700523,  0.04580659,\n",
       "          0.19950283,  0.26244092, -0.1994793 ,  0.0686096 ,  0.1497092 ],\n",
       "        [-0.26706395, -0.3366207 ,  0.23604763, -0.09096879,  0.01851591,\n",
       "         -0.345649  , -0.17967193,  0.3290816 , -0.23028395, -0.19107348,\n",
       "         -0.31489697,  0.08222574, -0.0198305 ,  0.13615096,  0.07446361,\n",
       "         -0.27204266, -0.05557284, -0.1319855 , -0.07756868, -0.1265797 ,\n",
       "          0.28589553, -0.31153518, -0.12145957, -0.20774952,  0.21266383],\n",
       "        [ 0.17117989, -0.04603502,  0.22404236, -0.33278534, -0.09361878,\n",
       "         -0.13548008, -0.10509202,  0.23165107,  0.30792254,  0.15010795,\n",
       "          0.06988877,  0.04145727,  0.33112848,  0.2412759 , -0.0888567 ,\n",
       "         -0.2083411 , -0.2886779 , -0.07394725,  0.31455117, -0.25367948,\n",
       "          0.3215114 ,  0.04646763,  0.08161581, -0.22018914, -0.1689386 ],\n",
       "        [-0.02494302, -0.3185753 , -0.13892362,  0.11175171, -0.28184074,\n",
       "          0.29242826,  0.25287986, -0.16674913,  0.27683574,  0.24905711,\n",
       "         -0.08232599,  0.22516608, -0.19978547,  0.33862865,  0.3335554 ,\n",
       "         -0.33215478,  0.23971957,  0.10601991,  0.31561106,  0.12981239,\n",
       "          0.29994112, -0.22177851, -0.34083372,  0.34591508,  0.27102196],\n",
       "        [-0.17740802,  0.09738928, -0.18959898, -0.09357369, -0.31329107,\n",
       "          0.14790699,  0.11422184, -0.28798455,  0.0488089 ,  0.1368244 ,\n",
       "         -0.15699065, -0.03417385,  0.11194283,  0.06413367, -0.18067771,\n",
       "          0.15124813,  0.26565158, -0.03728554, -0.2283107 ,  0.18510109,\n",
       "         -0.26297456, -0.01122844,  0.14987966, -0.21559207, -0.2178966 ],\n",
       "        [-0.16556743, -0.13416977,  0.10823774,  0.2907372 ,  0.04982668,\n",
       "          0.01142138, -0.2110813 , -0.04459754,  0.13474149, -0.06554574,\n",
       "         -0.03342113,  0.13833433, -0.3413946 , -0.09578282, -0.17874262,\n",
       "         -0.05761084, -0.1639432 ,  0.13409248, -0.14031263,  0.09677729,\n",
       "          0.04637447,  0.12418994,  0.10144159,  0.27033108, -0.05213532],\n",
       "        [-0.06192222,  0.24021035, -0.14510271, -0.21871004, -0.05864322,\n",
       "         -0.17624879,  0.23185241, -0.2976138 ,  0.01807114,  0.24370402,\n",
       "          0.3330971 ,  0.08553827, -0.01013231,  0.17031467, -0.10537307,\n",
       "         -0.0236775 ,  0.32493657,  0.05096957, -0.26501745, -0.3270063 ,\n",
       "          0.208417  , -0.10842562, -0.2870608 ,  0.01579627, -0.19849879],\n",
       "        [ 0.18371993, -0.2860765 , -0.14328745,  0.1963687 ,  0.30203462,\n",
       "         -0.07912752,  0.09858122, -0.09021679,  0.07795224, -0.2033566 ,\n",
       "         -0.00525498, -0.18898153,  0.04722169,  0.18753767,  0.19377816,\n",
       "         -0.14273153,  0.14088646,  0.26262134,  0.22792011, -0.04538339,\n",
       "         -0.2217843 ,  0.00712162, -0.20708524,  0.05597314, -0.11530368],\n",
       "        [-0.25269747,  0.18192369,  0.32826662, -0.17453404,  0.3460452 ,\n",
       "          0.12342143,  0.30301958, -0.15166114, -0.2518832 ,  0.21201473,\n",
       "          0.07357395, -0.3008173 ,  0.1100111 ,  0.21020693,  0.28119487,\n",
       "         -0.09191221, -0.21112284,  0.2979458 , -0.02999461, -0.01938063,\n",
       "         -0.06464764,  0.22038293,  0.01328734,  0.14467564, -0.18951772],\n",
       "        [-0.21642715, -0.22364672,  0.18604332, -0.33742982,  0.03284249,\n",
       "         -0.32386968,  0.08748883, -0.05760762, -0.07917088, -0.25384003,\n",
       "         -0.28088334, -0.27320677, -0.26018175,  0.15363038, -0.20136881,\n",
       "         -0.09914541, -0.03760129,  0.11317185, -0.11027706,  0.29031652,\n",
       "         -0.06299898,  0.11341411,  0.1802352 , -0.01591736, -0.24403769],\n",
       "        [ 0.12193424,  0.2987225 , -0.27238244,  0.16038513,  0.14257088,\n",
       "          0.24953061,  0.22221321, -0.05502805,  0.1729281 , -0.16107483,\n",
       "         -0.21038647, -0.1557982 ,  0.0108889 ,  0.08087024, -0.18950145,\n",
       "          0.00476977, -0.3270681 ,  0.32788795,  0.14228752, -0.18957461,\n",
       "         -0.2676709 , -0.03941432,  0.01187438, -0.2592763 , -0.1328888 ],\n",
       "        [ 0.21869081, -0.0445933 ,  0.33751225,  0.09004557, -0.28656507,\n",
       "         -0.02875507,  0.30594164, -0.16770735,  0.25213373,  0.05036235,\n",
       "          0.21154702, -0.04379442,  0.24809074, -0.06343734,  0.02105722,\n",
       "         -0.3109436 ,  0.18544978, -0.00346014, -0.22299433, -0.05995393,\n",
       "         -0.06671736,  0.18517989,  0.32628375, -0.09837277,  0.02054054],\n",
       "        [ 0.19111031,  0.15909141,  0.08518785,  0.14220187, -0.03153491,\n",
       "          0.26809925,  0.20432371, -0.18168077, -0.26188567, -0.13979742,\n",
       "          0.32033944,  0.0706633 , -0.14950487, -0.15979896, -0.13157742,\n",
       "          0.03591421,  0.11025757,  0.23855853,  0.23728663,  0.22811437,\n",
       "         -0.2878378 ,  0.05539873,  0.33432484, -0.10638556, -0.01232997],\n",
       "        [ 0.040914  , -0.20633449,  0.26298952, -0.09765118, -0.02808511,\n",
       "         -0.1410001 ,  0.18904322, -0.24304882, -0.23299772, -0.28468382,\n",
       "          0.05022615, -0.00792161, -0.3430962 , -0.12453443,  0.00359896,\n",
       "         -0.05893031,  0.09005135, -0.19167383,  0.2289899 ,  0.3266248 ,\n",
       "         -0.01130161,  0.0791195 , -0.09231988, -0.3111452 , -0.2830273 ],\n",
       "        [ 0.15960413,  0.27926904,  0.25686932, -0.3297607 ,  0.12258288,\n",
       "         -0.21497957,  0.04943675, -0.22174053, -0.16045846, -0.10343327,\n",
       "          0.2923237 , -0.18492493, -0.08632785, -0.15831324, -0.10285851,\n",
       "         -0.26630345, -0.00340191,  0.13268158,  0.2648425 ,  0.12211955,\n",
       "          0.14111334, -0.11943834,  0.1587727 ,  0.29663777,  0.33511615],\n",
       "        [-0.0867081 , -0.29350847,  0.07663435, -0.07029709,  0.1742481 ,\n",
       "          0.0718607 ,  0.1614322 ,  0.22747874,  0.3364033 , -0.10497408,\n",
       "         -0.12888439,  0.09222695, -0.16718802,  0.02767363, -0.04482514,\n",
       "         -0.29336262, -0.24482353, -0.08638698, -0.06536958,  0.21278018,\n",
       "         -0.1973596 , -0.30611733, -0.22946523,  0.2975136 , -0.06687784],\n",
       "        [-0.21108188,  0.01901534,  0.34621072, -0.21377796,  0.2533046 ,\n",
       "         -0.12080835, -0.09423134,  0.02088419,  0.25708467, -0.04339939,\n",
       "         -0.19939877,  0.2645164 , -0.29253456, -0.18710293,  0.04757756,\n",
       "          0.1543423 ,  0.01370582,  0.24563563, -0.14234534,  0.32317156,\n",
       "         -0.11822096,  0.13225144, -0.19493805,  0.26681417, -0.06824529],\n",
       "        [-0.2536552 ,  0.12864092, -0.31033334,  0.0225423 ,  0.33597308,\n",
       "          0.09704381, -0.07200629,  0.34114367, -0.04084057,  0.28192616,\n",
       "         -0.05661744, -0.11419944, -0.15519488,  0.21841776,  0.03834665,\n",
       "          0.16281408, -0.06109276,  0.22229093, -0.09554669, -0.20908467,\n",
       "         -0.14076217, -0.2063686 ,  0.3007294 , -0.33435893,  0.00046021],\n",
       "        [-0.00235274, -0.0957464 ,  0.27547103, -0.02447721,  0.21089137,\n",
       "         -0.10493055,  0.2785694 ,  0.318209  , -0.2611284 ,  0.3208744 ,\n",
       "          0.01684955, -0.28222576, -0.3029803 , -0.09112164,  0.12411967,\n",
       "         -0.31169838, -0.04465866, -0.14761437,  0.10819545,  0.2775628 ,\n",
       "         -0.29904956,  0.18708676,  0.33460104, -0.0920451 , -0.28858235],\n",
       "        [ 0.06240645,  0.14807877, -0.08117774, -0.14127654, -0.19633615,\n",
       "          0.24930066, -0.21271767,  0.14370593,  0.32202572, -0.05852008,\n",
       "         -0.14103447,  0.3187626 ,  0.05063903,  0.34251744,  0.00956258,\n",
       "         -0.33920017,  0.21293396, -0.10410216, -0.01900294,  0.09617537,\n",
       "          0.24763864, -0.01714605, -0.27971458,  0.31448102, -0.14746827],\n",
       "        [ 0.19118738,  0.09838822, -0.26102114, -0.30898553, -0.09159151,\n",
       "         -0.21496421,  0.30227917, -0.07302928,  0.25346905, -0.17747931,\n",
       "          0.2901885 , -0.28960475,  0.22463053, -0.20025606,  0.18494982,\n",
       "         -0.22369371,  0.28332317, -0.30556843,  0.2366026 , -0.20640048,\n",
       "          0.2801926 ,  0.19904786, -0.00678787,  0.01138422,  0.02827629],\n",
       "        [-0.29396495,  0.0428319 ,  0.07910192, -0.01267138, -0.16386722,\n",
       "         -0.11767213,  0.13724437,  0.21209425, -0.01654381, -0.29729864,\n",
       "          0.1066615 ,  0.06055775,  0.03798622, -0.16911668, -0.2959554 ,\n",
       "          0.13706714,  0.2182563 ,  0.2896402 ,  0.09879076, -0.24286482,\n",
       "         -0.18776448,  0.14987668,  0.10213578, -0.20458257,  0.16558832]],\n",
       "       dtype=float32),\n",
       " array([0., 0., 0., 0., 0., 0., 0., 0., 0., 0., 0., 0., 0., 0., 0., 0., 0.,\n",
       "        0., 0., 0., 0., 0., 0., 0., 0.], dtype=float32),\n",
       " array([[ 0.19933364,  0.39291313, -0.13606891,  0.3570588 ,  0.04463422,\n",
       "         -0.37178296,  0.14536873,  0.36698768,  0.05941024, -0.21548535],\n",
       "        [-0.39466026,  0.2951415 , -0.33656323, -0.0035558 ,  0.03340307,\n",
       "          0.28232595,  0.24407926, -0.05147752, -0.3822385 ,  0.17225298],\n",
       "        [-0.27571493,  0.17645505, -0.14134824, -0.19546324,  0.24732772,\n",
       "          0.07863432,  0.02011085,  0.07399681,  0.2782384 ,  0.16714618],\n",
       "        [-0.26252645, -0.23863758,  0.36278972,  0.36709747, -0.39972562,\n",
       "         -0.2602939 ,  0.22272447, -0.16161695,  0.3625572 ,  0.31893387],\n",
       "        [ 0.12143412, -0.03634566, -0.39176142, -0.36990798, -0.2910687 ,\n",
       "          0.00336924, -0.07838488,  0.37908408, -0.24422888,  0.3235853 ],\n",
       "        [-0.31572634,  0.0853343 , -0.07948822, -0.0557501 ,  0.12402114,\n",
       "          0.16566238,  0.08267266,  0.3920525 , -0.02407137, -0.09967616],\n",
       "        [ 0.03618672,  0.38462427,  0.00085232, -0.13469905,  0.1817731 ,\n",
       "         -0.38759002, -0.39914626, -0.1132054 ,  0.09155026, -0.2177536 ],\n",
       "        [-0.06185126, -0.07221481,  0.12223789, -0.03785768,  0.29633036,\n",
       "         -0.21197486,  0.33744553,  0.22569826,  0.15829083,  0.16431502],\n",
       "        [ 0.09667614,  0.396746  , -0.32365817, -0.37400314,  0.11862817,\n",
       "         -0.03315037,  0.35579887,  0.08266288,  0.32555518, -0.08603853],\n",
       "        [ 0.08311903,  0.02239668,  0.0646196 , -0.2332459 , -0.22285183,\n",
       "         -0.3526559 ,  0.37792656,  0.03126955, -0.18371798,  0.29611418],\n",
       "        [-0.32642967,  0.05055049, -0.30118844,  0.01602969,  0.11767176,\n",
       "         -0.31645703,  0.1786618 , -0.06424597,  0.38772073,  0.11742714],\n",
       "        [ 0.04600251,  0.08526826,  0.05919939, -0.20639244,  0.06345055,\n",
       "         -0.16649048, -0.15158713, -0.28270915, -0.09676564,  0.3670878 ],\n",
       "        [-0.29207975,  0.06754896, -0.14564669,  0.02933851, -0.23872021,\n",
       "         -0.17978024, -0.08921072,  0.20081261, -0.10800588,  0.04012671],\n",
       "        [-0.1228117 ,  0.22500774,  0.37798944, -0.40752655,  0.04780269,\n",
       "          0.30763087,  0.03054774,  0.01343989, -0.21486917,  0.04506701],\n",
       "        [-0.12371761, -0.23620753, -0.16373327, -0.31793448, -0.40967548,\n",
       "          0.24221215,  0.2834824 ,  0.16689757, -0.1805363 ,  0.34697714],\n",
       "        [ 0.13001356, -0.32584786, -0.21352625, -0.38672075,  0.07648462,\n",
       "         -0.13219365,  0.16023138, -0.1524806 ,  0.11313203, -0.06873849],\n",
       "        [-0.00423554,  0.05138385,  0.2512711 ,  0.05411687, -0.31388688,\n",
       "         -0.15218484,  0.26342925, -0.105854  ,  0.35923216,  0.14472875],\n",
       "        [ 0.37644348, -0.20152798, -0.04975259, -0.06297916,  0.11252585,\n",
       "         -0.3465964 , -0.25536174, -0.10947436, -0.0309813 , -0.18461005],\n",
       "        [ 0.15503517, -0.35855776,  0.28309897,  0.09186819, -0.1499776 ,\n",
       "          0.1919246 ,  0.141547  , -0.07544655,  0.28444168, -0.35510403],\n",
       "        [-0.39028296, -0.10648617,  0.34627637, -0.1672577 ,  0.29537377,\n",
       "         -0.25186306, -0.16769807, -0.15852273, -0.20034508, -0.08679131],\n",
       "        [ 0.25446877, -0.07614565, -0.2738791 ,  0.13460854,  0.25973728,\n",
       "          0.18440077,  0.110769  , -0.1607514 ,  0.3307366 ,  0.03827977],\n",
       "        [ 0.30085066, -0.38393632, -0.2767846 , -0.2067421 ,  0.37589815,\n",
       "          0.22662571, -0.3252437 ,  0.28706506,  0.10612753,  0.00976583],\n",
       "        [ 0.28194323, -0.25880015, -0.17401768,  0.3924457 , -0.33235818,\n",
       "         -0.34861678, -0.15886971,  0.3379344 ,  0.40866265, -0.23004052],\n",
       "        [ 0.4045044 ,  0.17736271, -0.4126291 ,  0.07816267,  0.01199156,\n",
       "         -0.24962424,  0.3575273 , -0.31650025,  0.09648153, -0.0688138 ],\n",
       "        [-0.30755407,  0.11102012, -0.1890923 , -0.05125758, -0.39510044,\n",
       "         -0.0359897 , -0.19198681,  0.21493372,  0.1828467 , -0.06570321]],\n",
       "       dtype=float32),\n",
       " array([0., 0., 0., 0., 0., 0., 0., 0., 0., 0.], dtype=float32)]"
      ]
     },
     "execution_count": 16,
     "metadata": {},
     "output_type": "execute_result"
    }
   ],
   "source": [
    "# pesoas aleatórios iniciais\n",
    "pesos_iniciais"
   ]
  },
  {
   "cell_type": "markdown",
   "metadata": {},
   "source": [
    "### Treinamento\n",
    "\n",
    "Agora vem a parte de treinamento da rede neural. Para isso, basta usar o método ``.fit()`` e definir a quantidade de epochs, conjunto de treino e conjunto de validação. O parâmetro ``verbose`` define se informações de treinamento devem ser exibidas na tela a cada epoch."
   ]
  },
  {
   "cell_type": "code",
   "execution_count": 17,
   "metadata": {
    "scrolled": true
   },
   "outputs": [
    {
     "name": "stdout",
     "output_type": "stream",
     "text": [
      "Train on 54000 samples, validate on 6000 samples\n",
      "Epoch 1/100\n",
      "54000/54000 [==============================] - 6s 116us/sample - loss: 0.4208 - val_loss: 0.2449\n",
      "Epoch 2/100\n",
      "54000/54000 [==============================] - 4s 66us/sample - loss: 0.2144 - val_loss: 0.1775\n",
      "Epoch 3/100\n",
      "54000/54000 [==============================] - 3s 62us/sample - loss: 0.1766 - val_loss: 0.1693\n",
      "Epoch 4/100\n",
      "54000/54000 [==============================] - 3s 61us/sample - loss: 0.1560 - val_loss: 0.1591\n",
      "Epoch 5/100\n",
      "54000/54000 [==============================] - 3s 62us/sample - loss: 0.1412 - val_loss: 0.1660\n",
      "Epoch 6/100\n",
      "54000/54000 [==============================] - 3s 61us/sample - loss: 0.1285 - val_loss: 0.1515\n",
      "Epoch 7/100\n",
      "54000/54000 [==============================] - 3s 64us/sample - loss: 0.1220 - val_loss: 0.1425\n",
      "Epoch 8/100\n",
      "54000/54000 [==============================] - 4s 67us/sample - loss: 0.1145 - val_loss: 0.1400\n",
      "Epoch 9/100\n",
      "54000/54000 [==============================] - 4s 66us/sample - loss: 0.1083 - val_loss: 0.1401\n",
      "Epoch 10/100\n",
      "54000/54000 [==============================] - 3s 64us/sample - loss: 0.1048 - val_loss: 0.1478\n",
      "Epoch 11/100\n",
      "54000/54000 [==============================] - 3s 63us/sample - loss: 0.1009 - val_loss: 0.1485\n",
      "Epoch 12/100\n",
      "54000/54000 [==============================] - 4s 66us/sample - loss: 0.0978 - val_loss: 0.1476\n",
      "Epoch 13/100\n",
      "54000/54000 [==============================] - 4s 65us/sample - loss: 0.0951 - val_loss: 0.1422\n",
      "Epoch 14/100\n",
      "54000/54000 [==============================] - 3s 64us/sample - loss: 0.0917 - val_loss: 0.1331\n",
      "Epoch 15/100\n",
      "54000/54000 [==============================] - 3s 65us/sample - loss: 0.0900 - val_loss: 0.2166\n",
      "Epoch 16/100\n",
      "54000/54000 [==============================] - 3s 64us/sample - loss: 0.0886 - val_loss: 0.1638\n",
      "Epoch 17/100\n",
      "54000/54000 [==============================] - 3s 63us/sample - loss: 0.0857 - val_loss: 0.1380\n",
      "Epoch 18/100\n",
      "54000/54000 [==============================] - 3s 62us/sample - loss: 0.0854 - val_loss: 0.1608\n",
      "Epoch 19/100\n",
      "54000/54000 [==============================] - 3s 62us/sample - loss: 0.0842 - val_loss: 0.1471\n",
      "Epoch 20/100\n",
      "54000/54000 [==============================] - 4s 65us/sample - loss: 0.0817 - val_loss: 0.1624\n",
      "Epoch 21/100\n",
      "54000/54000 [==============================] - 3s 63us/sample - loss: 0.0828 - val_loss: 0.1571\n",
      "Epoch 22/100\n",
      "54000/54000 [==============================] - 3s 63us/sample - loss: 0.0799 - val_loss: 0.1689\n",
      "Epoch 23/100\n",
      "54000/54000 [==============================] - 3s 64us/sample - loss: 0.0800 - val_loss: 0.1709\n",
      "Epoch 24/100\n",
      "54000/54000 [==============================] - 3s 64us/sample - loss: 0.0803 - val_loss: 0.1853\n",
      "Epoch 25/100\n",
      "54000/54000 [==============================] - 3s 63us/sample - loss: 0.0789 - val_loss: 0.1794\n",
      "Epoch 26/100\n",
      "54000/54000 [==============================] - 3s 62us/sample - loss: 0.0772 - val_loss: 0.1727\n",
      "Epoch 27/100\n",
      "54000/54000 [==============================] - 3s 62us/sample - loss: 0.0767 - val_loss: 0.1686\n",
      "Epoch 28/100\n",
      "54000/54000 [==============================] - 3s 64us/sample - loss: 0.0772 - val_loss: 0.1877\n",
      "Epoch 29/100\n",
      "54000/54000 [==============================] - 4s 70us/sample - loss: 0.0778 - val_loss: 0.1867\n",
      "Epoch 30/100\n",
      "54000/54000 [==============================] - 3s 64us/sample - loss: 0.0746 - val_loss: 0.2279\n",
      "Epoch 31/100\n",
      "54000/54000 [==============================] - 3s 64us/sample - loss: 0.0780 - val_loss: 0.1771\n",
      "Epoch 32/100\n",
      "54000/54000 [==============================] - 3s 61us/sample - loss: 0.0751 - val_loss: 0.2150\n",
      "Epoch 33/100\n",
      "54000/54000 [==============================] - 3s 60us/sample - loss: 0.0735 - val_loss: 0.2295\n",
      "Epoch 34/100\n",
      "54000/54000 [==============================] - 3s 59us/sample - loss: 0.0720 - val_loss: 0.2539\n",
      "Epoch 35/100\n",
      "54000/54000 [==============================] - 3s 59us/sample - loss: 0.0727 - val_loss: 0.2001\n",
      "Epoch 36/100\n",
      "54000/54000 [==============================] - 3s 60us/sample - loss: 0.0744 - val_loss: 0.2286\n",
      "Epoch 37/100\n",
      "54000/54000 [==============================] - 3s 59us/sample - loss: 0.0726 - val_loss: 0.2042\n",
      "Epoch 38/100\n",
      "54000/54000 [==============================] - 3s 61us/sample - loss: 0.0734 - val_loss: 0.2118\n",
      "Epoch 39/100\n",
      "54000/54000 [==============================] - 3s 62us/sample - loss: 0.0737 - val_loss: 0.2337\n",
      "Epoch 40/100\n",
      "54000/54000 [==============================] - 4s 72us/sample - loss: 0.0714 - val_loss: 0.2469\n",
      "Epoch 41/100\n",
      "54000/54000 [==============================] - 5s 92us/sample - loss: 0.0726 - val_loss: 0.2438\n",
      "Epoch 42/100\n",
      "54000/54000 [==============================] - 4s 82us/sample - loss: 0.0715 - val_loss: 0.2766\n",
      "Epoch 43/100\n",
      "54000/54000 [==============================] - 5s 84us/sample - loss: 0.0700 - val_loss: 0.2589\n",
      "Epoch 44/100\n",
      "54000/54000 [==============================] - 4s 78us/sample - loss: 0.0705 - val_loss: 0.2700\n",
      "Epoch 45/100\n",
      "54000/54000 [==============================] - 3s 58us/sample - loss: 0.0690 - val_loss: 0.2718\n",
      "Epoch 46/100\n",
      "54000/54000 [==============================] - 3s 59us/sample - loss: 0.0707 - val_loss: 0.2759\n",
      "Epoch 47/100\n",
      "54000/54000 [==============================] - 3s 61us/sample - loss: 0.0692 - val_loss: 0.3294\n",
      "Epoch 48/100\n",
      "54000/54000 [==============================] - 4s 67us/sample - loss: 0.0706 - val_loss: 0.2918\n",
      "Epoch 49/100\n",
      "54000/54000 [==============================] - 4s 73us/sample - loss: 0.0710 - val_loss: 0.2827\n",
      "Epoch 50/100\n",
      "54000/54000 [==============================] - 4s 71us/sample - loss: 0.0696 - val_loss: 0.2839\n",
      "Epoch 51/100\n",
      "54000/54000 [==============================] - 4s 78us/sample - loss: 0.0675 - val_loss: 0.3005\n",
      "Epoch 52/100\n",
      "54000/54000 [==============================] - 4s 71us/sample - loss: 0.0691 - val_loss: 0.3204\n",
      "Epoch 53/100\n",
      "54000/54000 [==============================] - 4s 79us/sample - loss: 0.0684 - val_loss: 0.2981\n",
      "Epoch 54/100\n",
      "54000/54000 [==============================] - 3s 65us/sample - loss: 0.0693 - val_loss: 0.2979\n",
      "Epoch 55/100\n",
      "54000/54000 [==============================] - 5s 85us/sample - loss: 0.0676 - val_loss: 0.3479\n",
      "Epoch 56/100\n",
      "54000/54000 [==============================] - 4s 68us/sample - loss: 0.0693 - val_loss: 0.2876\n",
      "Epoch 57/100\n",
      "54000/54000 [==============================] - 4s 66us/sample - loss: 0.0674 - val_loss: 0.3385\n",
      "Epoch 58/100\n",
      "54000/54000 [==============================] - 4s 77us/sample - loss: 0.0700 - val_loss: 0.3384\n",
      "Epoch 59/100\n",
      "54000/54000 [==============================] - 4s 69us/sample - loss: 0.0651 - val_loss: 0.3382\n",
      "Epoch 60/100\n",
      "54000/54000 [==============================] - 4s 70us/sample - loss: 0.0671 - val_loss: 0.3764\n",
      "Epoch 61/100\n",
      "54000/54000 [==============================] - 3s 63us/sample - loss: 0.0687 - val_loss: 0.3661\n",
      "Epoch 62/100\n",
      "54000/54000 [==============================] - 4s 65us/sample - loss: 0.0683 - val_loss: 0.3714\n",
      "Epoch 63/100\n",
      "54000/54000 [==============================] - 3s 63us/sample - loss: 0.0640 - val_loss: 0.3256\n",
      "Epoch 64/100\n",
      "54000/54000 [==============================] - 3s 64us/sample - loss: 0.0638 - val_loss: 0.3707\n",
      "Epoch 65/100\n",
      "54000/54000 [==============================] - 3s 61us/sample - loss: 0.0663 - val_loss: 0.3626\n",
      "Epoch 66/100\n",
      "54000/54000 [==============================] - 3s 62us/sample - loss: 0.0637 - val_loss: 0.4069\n",
      "Epoch 67/100\n",
      "54000/54000 [==============================] - 3s 61us/sample - loss: 0.0652 - val_loss: 0.3279\n",
      "Epoch 68/100\n",
      "54000/54000 [==============================] - 3s 61us/sample - loss: 0.0654 - val_loss: 0.4062\n",
      "Epoch 69/100\n",
      "54000/54000 [==============================] - 3s 61us/sample - loss: 0.0681 - val_loss: 0.3604\n",
      "Epoch 70/100\n",
      "54000/54000 [==============================] - 3s 61us/sample - loss: 0.0645 - val_loss: 0.4090\n",
      "Epoch 71/100\n",
      "54000/54000 [==============================] - 3s 64us/sample - loss: 0.0648 - val_loss: 0.3643\n",
      "Epoch 72/100\n",
      "54000/54000 [==============================] - 3s 62us/sample - loss: 0.0668 - val_loss: 0.3686\n",
      "Epoch 73/100\n",
      "54000/54000 [==============================] - 4s 68us/sample - loss: 0.0661 - val_loss: 0.4061\n",
      "Epoch 74/100\n",
      "54000/54000 [==============================] - 4s 75us/sample - loss: 0.0655 - val_loss: 0.4210\n",
      "Epoch 75/100\n",
      "54000/54000 [==============================] - 3s 60us/sample - loss: 0.0659 - val_loss: 0.4730\n",
      "Epoch 76/100\n",
      "54000/54000 [==============================] - 3s 60us/sample - loss: 0.0661 - val_loss: 0.4382\n",
      "Epoch 77/100\n",
      "54000/54000 [==============================] - 3s 61us/sample - loss: 0.0631 - val_loss: 0.4407\n",
      "Epoch 78/100\n",
      "54000/54000 [==============================] - 3s 62us/sample - loss: 0.0669 - val_loss: 0.4522\n",
      "Epoch 79/100\n",
      "54000/54000 [==============================] - 3s 62us/sample - loss: 0.0647 - val_loss: 0.4258\n",
      "Epoch 80/100\n",
      "54000/54000 [==============================] - 3s 62us/sample - loss: 0.0661 - val_loss: 0.4466\n",
      "Epoch 81/100\n",
      "54000/54000 [==============================] - 3s 64us/sample - loss: 0.0656 - val_loss: 0.5108\n",
      "Epoch 82/100\n",
      "54000/54000 [==============================] - 3s 63us/sample - loss: 0.0648 - val_loss: 0.4824\n",
      "Epoch 83/100\n",
      "54000/54000 [==============================] - 4s 68us/sample - loss: 0.0636 - val_loss: 0.5707\n",
      "Epoch 84/100\n",
      "54000/54000 [==============================] - 4s 67us/sample - loss: 0.0634 - val_loss: 0.5002\n",
      "Epoch 85/100\n",
      "54000/54000 [==============================] - 3s 63us/sample - loss: 0.0639 - val_loss: 0.5164\n",
      "Epoch 86/100\n",
      "54000/54000 [==============================] - 3s 62us/sample - loss: 0.0623 - val_loss: 0.5052\n",
      "Epoch 87/100\n",
      "54000/54000 [==============================] - 3s 63us/sample - loss: 0.0649 - val_loss: 0.4879\n",
      "Epoch 88/100\n",
      "54000/54000 [==============================] - 3s 62us/sample - loss: 0.0633 - val_loss: 0.5266\n",
      "Epoch 89/100\n",
      "54000/54000 [==============================] - 3s 63us/sample - loss: 0.0669 - val_loss: 0.5079\n",
      "Epoch 90/100\n",
      "54000/54000 [==============================] - 3s 61us/sample - loss: 0.0663 - val_loss: 0.5118\n",
      "Epoch 91/100\n",
      "54000/54000 [==============================] - 3s 61us/sample - loss: 0.0625 - val_loss: 0.5693\n",
      "Epoch 92/100\n",
      "54000/54000 [==============================] - 3s 62us/sample - loss: 0.0646 - val_loss: 0.5844\n",
      "Epoch 93/100\n",
      "54000/54000 [==============================] - 3s 63us/sample - loss: 0.0599 - val_loss: 0.5848\n",
      "Epoch 94/100\n",
      "54000/54000 [==============================] - 4s 70us/sample - loss: 0.0603 - val_loss: 0.5925\n",
      "Epoch 95/100\n",
      "54000/54000 [==============================] - 4s 75us/sample - loss: 0.0643 - val_loss: 0.5859\n",
      "Epoch 96/100\n",
      "54000/54000 [==============================] - 4s 68us/sample - loss: 0.0619 - val_loss: 0.6165\n",
      "Epoch 97/100\n",
      "54000/54000 [==============================] - 4s 68us/sample - loss: 0.0600 - val_loss: 0.7157\n",
      "Epoch 98/100\n",
      "54000/54000 [==============================] - 4s 69us/sample - loss: 0.0648 - val_loss: 0.6194\n",
      "Epoch 99/100\n",
      "54000/54000 [==============================] - 4s 73us/sample - loss: 0.0613 - val_loss: 0.5376\n",
      "Epoch 100/100\n",
      "54000/54000 [==============================] - 4s 74us/sample - loss: 0.0615 - val_loss: 0.6492\n"
     ]
    }
   ],
   "source": [
    "historico = rede_simples.fit(X_train, \n",
    "                             y_train, \n",
    "                             epochs = 100, \n",
    "                             verbose = 1,\n",
    "                             validation_data = (X_val, y_val))"
   ]
  },
  {
   "cell_type": "markdown",
   "metadata": {},
   "source": [
    "O que está acontecendo acima?\n",
    "\n",
    "O treinamento de uma rede neural (e de todo modelo de machine learning, na verdade) consiste em um **problema de otimização**, em que queremos encontrar **o valor mínimo da função de perda**\n",
    "\n",
    "No nosso caso, a função de perda é a \"categorical crossentropy\", cuja expressão matemática é:\n",
    "\n",
    "$$ L(y, \\hat{y}) = - \\sum_i{y_i \\log \\hat{y}_i}$$, \n",
    "\n",
    "onde $\\hat{y}$, a previsão do modelo, é uma expressão bem complicada, que relaciona todos os pesos e funções de ativação de toda a rede neural.\n",
    "\n",
    "Como mencionamos, as redes neurais utilizam o procedimento de **back propagation** em seu treinamento (cujo objetivo é **determinar os pesos**):\n",
    "\n",
    "<img src=\"https://machinelearningknowledge.ai/wp-content/uploads/2019/10/Backpropagation.gif\" width=400>\n",
    "\n",
    "Matematicamente, o back propagation é implementado através de algum **método de otimização**, com o fim de **determinar os pesos que minimizam a função de perda**. O principal método utilizado para este fim é o **gradiente descendente**:\n",
    "\n",
    "<img src=\"https://thumbs.gfycat.com/AngryInconsequentialDiplodocus-size_restricted.gif\" width=1000>\n",
    "\n",
    "Então, o que está acontecendo acima, é que **em cada epoch**, o Keras faz o forward propagation, avalia as predições, e depois segue com o back propagation para atualizar os pesos!\n",
    "\n",
    "E isso é feito pelo número de vezes (epochs) que determinarmos!"
   ]
  },
  {
   "cell_type": "markdown",
   "metadata": {},
   "source": [
    "__Modelo treinado!__\n",
    "\n",
    "Agora, devemos **fazer predições** e **avaliar a performance**:"
   ]
  },
  {
   "cell_type": "code",
   "execution_count": 18,
   "metadata": {},
   "outputs": [],
   "source": [
    "# obs: o método .predict() dá as probabilidades! dê uma olhada..."
   ]
  },
  {
   "cell_type": "code",
   "execution_count": 19,
   "metadata": {},
   "outputs": [],
   "source": [
    "# método pra predizer as classes finais\n",
    "\n",
    "y_pred = rede_simples.predict_classes(X_test)"
   ]
  },
  {
   "cell_type": "code",
   "execution_count": 20,
   "metadata": {},
   "outputs": [],
   "source": [
    "# voltando o y_test pra valores nunéricos\n",
    "\n",
    "y_test = np.argmax(y_test, axis=1)"
   ]
  },
  {
   "cell_type": "code",
   "execution_count": 21,
   "metadata": {},
   "outputs": [
    {
     "name": "stdout",
     "output_type": "stream",
     "text": [
      "Matriz de confusão do modelo nos dados de teste:\n",
      "\n",
      "[[ 961    0    2    3    0    2    2    2    2    6]\n",
      " [   0 1122    5    2    0    1    3    1    0    1]\n",
      " [   6    3  989    9    4    1    5   11    4    0]\n",
      " [   0    1   11  964    1   14    0   12    4    3]\n",
      " [   1    3    7    0  923    0    6    8    2   32]\n",
      " [   8    0    1   22    2  817   14    7   12    9]\n",
      " [   9    3    1    1    7    5  928    2    2    0]\n",
      " [   1    7   18    5    1    0    0  987    3    6]\n",
      " [   6    2   13    7    8   10    8    9  899   12]\n",
      " [   4    7    0    6   17    3    0   16    2  954]]\n",
      "\n",
      "Matriz de confusão do modelo nos dados de teste:\n",
      "\n",
      "              precision    recall  f1-score   support\n",
      "\n",
      "           0       0.96      0.98      0.97       980\n",
      "           1       0.98      0.99      0.98      1135\n",
      "           2       0.94      0.96      0.95      1032\n",
      "           3       0.95      0.95      0.95      1010\n",
      "           4       0.96      0.94      0.95       982\n",
      "           5       0.96      0.92      0.94       892\n",
      "           6       0.96      0.97      0.96       958\n",
      "           7       0.94      0.96      0.95      1028\n",
      "           8       0.97      0.92      0.94       974\n",
      "           9       0.93      0.95      0.94      1009\n",
      "\n",
      "    accuracy                           0.95     10000\n",
      "   macro avg       0.95      0.95      0.95     10000\n",
      "weighted avg       0.95      0.95      0.95     10000\n",
      "\n"
     ]
    }
   ],
   "source": [
    "from sklearn.metrics import classification_report, confusion_matrix\n",
    "\n",
    "print(\"Matriz de confusão do modelo nos dados de teste:\\n\")\n",
    "print(confusion_matrix(y_test, y_pred))\n",
    "\n",
    "print(\"\\nMatriz de confusão do modelo nos dados de teste:\\n\")\n",
    "print(classification_report(y_test, y_pred))"
   ]
  },
  {
   "cell_type": "code",
   "execution_count": 22,
   "metadata": {},
   "outputs": [
    {
     "data": {
      "text/plain": [
       "{'precision': 0.9545270833149625,\n",
       " 'recall': 0.9544,\n",
       " 'f1-score': 0.9543244253330356,\n",
       " 'support': 10000}"
      ]
     },
     "execution_count": 22,
     "metadata": {},
     "output_type": "execute_result"
    }
   ],
   "source": [
    "# pra dar uma olhada nos valores sem arredondamento\n",
    "\n",
    "classification_report(y_test, y_pred, output_dict=True)['weighted avg']"
   ]
  },
  {
   "cell_type": "markdown",
   "metadata": {},
   "source": [
    "O modelo se saiu super bem! Um f1-score de 96% é muitíssimo bom!\n",
    "\n",
    "Mas algumas coisas devem ser observadas a partir desse resutaldo."
   ]
  },
  {
   "cell_type": "markdown",
   "metadata": {},
   "source": [
    "#### Overfitting\n",
    "\n",
    "O **overfitting** é algo que pode ser bastante comum em redes neurais se não for bem tratado, porque ele é um modelo altamente não linear!\n",
    "\n",
    "Relembrando, o overfitting está intimamente relacionado com o tradeoff viés-variância:\n",
    "\n",
    "<img src=\"https://www.learnopencv.com/wp-content/uploads/2017/02/Bias-Variance-Tradeoff-In-Machine-Learning-1.png\" width=500>\n",
    "\n",
    "Podemos visualizar esta característica em nosso modelo ao **plotar** o valor da **função de perda** a cada epoch:"
   ]
  },
  {
   "cell_type": "code",
   "execution_count": 23,
   "metadata": {},
   "outputs": [
    {
     "data": {
      "image/png": "[encoded data removed]",
      "text/plain": [
       "<Figure size 864x432 with 1 Axes>"
      ]
     },
     "metadata": {
      "needs_background": "light"
     },
     "output_type": "display_data"
    }
   ],
   "source": [
    "# valor da função de perda NOS DADOS DE TREINO a cada epoch\n",
    "loss = historico.history['loss']\n",
    "\n",
    "# valor da função de perda NOS DADOS DE VALIDAÇÃO a cada epoch\n",
    "val_loss = historico.history['val_loss']\n",
    "\n",
    "# numero de epochs\n",
    "epochs = range(len(loss))\n",
    "\n",
    "# plot\n",
    "plt.figure(figsize=(12, 6))\n",
    "plt.plot(epochs, loss, 'red', label = 'Training loss')\n",
    "plt.plot(epochs, val_loss, 'blue', label = 'Validation loss')\n",
    "plt.title('Training and validation loss')\n",
    "plt.legend()\n",
    "plt.show()"
   ]
  },
  {
   "cell_type": "markdown",
   "metadata": {},
   "source": [
    "Pelo gráfico, é possível perceber que mais ou menos a partir da 15ª época a função de perda continuou decrescedo pro conjunto de treinamento, mas no conjunto de validação isso se manteve fixo por um tempo e depois começou a perder desempenho.\n",
    "\n",
    "A curva acima é muito parecida com o nosso exemplo do tradeoff vié-variância, não é mesmo?!\n",
    "\n",
    "Temos, portanto, um forte indício que está começando a ocorrer overfitting!\n",
    "\n",
    "Para evitarmos isso, pode ser interessante que o **treinamento seja interrompido antes do overfitting começar a ocorrer**! Esta técnica é conhecida como **early stopping**:\n",
    "\n",
    "##### Early Stopping\n",
    "\n",
    "Para interromper um treinamento, podemos usar o callback de ``EarlyStopping()``. Esse callback pode receber alguns parâmetros, como o que ele deve monitorar (``monitor``), a diferença mínima que deve ser considerada pra ser um avanço (``min_delta``) e a quantidade de épocas que devem se manter sem avanço até de fato interromper o treinamento (``patience``). No exemplo a seguir, estamos monitorando a função de perda do conjunto de validação, consideramos um avanço mínimo o valor de 0.001 e paciência de 10 épocas. \n",
    "\n",
    "Ou seja, **se a função de perda na validação não tiver uma redução de pelo menos 0.001 por 10 épocas**, o treinamento será interrompido."
   ]
  },
  {
   "cell_type": "code",
   "execution_count": 24,
   "metadata": {
    "scrolled": true
   },
   "outputs": [
    {
     "name": "stdout",
     "output_type": "stream",
     "text": [
      "Train on 54000 samples, validate on 6000 samples\n",
      "Epoch 1/150\n",
      "54000/54000 [==============================] - 4s 81us/sample - loss: 0.4462 - val_loss: 0.2468\n",
      "Epoch 2/150\n",
      "54000/54000 [==============================] - 4s 67us/sample - loss: 0.2158 - val_loss: 0.1986\n",
      "Epoch 3/150\n",
      "54000/54000 [==============================] - 4s 69us/sample - loss: 0.1719 - val_loss: 0.1521\n",
      "Epoch 4/150\n",
      "54000/54000 [==============================] - 4s 75us/sample - loss: 0.1478 - val_loss: 0.1533\n",
      "Epoch 5/150\n",
      "54000/54000 [==============================] - 4s 74us/sample - loss: 0.1332 - val_loss: 0.1522\n",
      "Epoch 6/150\n",
      "54000/54000 [==============================] - 4s 66us/sample - loss: 0.1243 - val_loss: 0.1341\n",
      "Epoch 7/150\n",
      "54000/54000 [==============================] - 3s 64us/sample - loss: 0.1172 - val_loss: 0.1346\n",
      "Epoch 8/150\n",
      "54000/54000 [==============================] - 3s 64us/sample - loss: 0.1119 - val_loss: 0.1440\n",
      "Epoch 9/150\n",
      "54000/54000 [==============================] - 3s 63us/sample - loss: 0.1074 - val_loss: 0.1359\n",
      "Epoch 10/150\n",
      "54000/54000 [==============================] - 3s 64us/sample - loss: 0.1017 - val_loss: 0.1474\n",
      "Epoch 11/150\n",
      "54000/54000 [==============================] - 3s 64us/sample - loss: 0.0984 - val_loss: 0.1947\n",
      "Epoch 12/150\n",
      "54000/54000 [==============================] - 3s 65us/sample - loss: 0.0981 - val_loss: 0.1583\n",
      "Epoch 13/150\n",
      "54000/54000 [==============================] - 4s 66us/sample - loss: 0.0944 - val_loss: 0.1611\n",
      "Epoch 14/150\n",
      "54000/54000 [==============================] - 3s 64us/sample - loss: 0.0923 - val_loss: 0.1401\n",
      "Epoch 15/150\n",
      "54000/54000 [==============================] - 4s 68us/sample - loss: 0.0909 - val_loss: 0.1435\n",
      "Epoch 16/150\n",
      "54000/54000 [==============================] - 4s 65us/sample - loss: 0.0889 - val_loss: 0.1570\n",
      "Epoch 00016: early stopping\n"
     ]
    }
   ],
   "source": [
    "from tensorflow.keras.callbacks import EarlyStopping\n",
    "\n",
    "early_stop = EarlyStopping(monitor = 'val_loss', \n",
    "                           min_delta = 0.001,\n",
    "                           patience = 10, \n",
    "                           verbose = 1, mode = 'auto')\n",
    "\n",
    "# setamos os pesos iniciais iguais à versão antes do treinamento pra ter um comparativo mais real.\n",
    "rede_simples.set_weights(pesos_iniciais)\n",
    "\n",
    "# treinando a rede neural novamente\n",
    "# note o argumento \"callbacks\", ao qual passamos o objeto de early_stop\n",
    "historico = rede_simples.fit(X_train, \n",
    "                             y_train, \n",
    "                             epochs = 150, \n",
    "                             verbose = 1,\n",
    "                             validation_data = (X_val, y_val),\n",
    "                             callbacks = [early_stop])"
   ]
  },
  {
   "cell_type": "code",
   "execution_count": 25,
   "metadata": {},
   "outputs": [
    {
     "data": {
      "image/png": "[encoded data removed]",
      "text/plain": [
       "<Figure size 864x432 with 1 Axes>"
      ]
     },
     "metadata": {
      "needs_background": "light"
     },
     "output_type": "display_data"
    }
   ],
   "source": [
    "# valor da função de perda NOS DADOS DE TREINO a cada epoch\n",
    "loss = historico.history['loss']\n",
    "\n",
    "# valor da função de perda NOS DADOS DE VALIDAÇÃO a cada epoch\n",
    "val_loss = historico.history['val_loss']\n",
    "\n",
    "# numero de epochs\n",
    "epochs = range(len(loss))\n",
    "\n",
    "# plot\n",
    "plt.figure(figsize=(12, 6))\n",
    "plt.plot(epochs, loss, 'red', label = 'Training loss')\n",
    "plt.plot(epochs, val_loss, 'blue', label = 'Validation loss')\n",
    "plt.title('Training and validation loss')\n",
    "plt.legend()\n",
    "plt.show()"
   ]
  },
  {
   "cell_type": "markdown",
   "metadata": {},
   "source": [
    "É possível perceber que o treinamento foi interrompido pouco depois do 15o epoch, bem antes do total de epochs definido inicialmente!\n",
    "\n",
    "Vamos agora fazer predições e avaliar o modelo:"
   ]
  },
  {
   "cell_type": "code",
   "execution_count": 26,
   "metadata": {},
   "outputs": [
    {
     "name": "stdout",
     "output_type": "stream",
     "text": [
      "Matriz de confusão do modelo nos dados de teste:\n",
      "\n",
      "[[ 954    0    4    1    2    8    3    3    1    4]\n",
      " [   0 1120    3    3    1    1    2    0    4    1]\n",
      " [   5    1  983   13    5    2    0   12   11    0]\n",
      " [   0    0   10  964    1   15    0   10    6    4]\n",
      " [   0    0    3    0  949    1    4    6    5   14]\n",
      " [   3    0    0   13    2  853    9    2    9    1]\n",
      " [   1    3    0    1   11   15  921    0    6    0]\n",
      " [   1    6   10    5    2    0    0  988    2   14]\n",
      " [   5    5    4   10    4   11    3    8  916    8]\n",
      " [   3    4    0    7   20    1    1    8    8  957]]\n",
      "\n",
      "Matriz de confusão do modelo nos dados de teste:\n",
      "\n",
      "              precision    recall  f1-score   support\n",
      "\n",
      "           0       0.98      0.97      0.98       980\n",
      "           1       0.98      0.99      0.99      1135\n",
      "           2       0.97      0.95      0.96      1032\n",
      "           3       0.95      0.95      0.95      1010\n",
      "           4       0.95      0.97      0.96       982\n",
      "           5       0.94      0.96      0.95       892\n",
      "           6       0.98      0.96      0.97       958\n",
      "           7       0.95      0.96      0.96      1028\n",
      "           8       0.95      0.94      0.94       974\n",
      "           9       0.95      0.95      0.95      1009\n",
      "\n",
      "    accuracy                           0.96     10000\n",
      "   macro avg       0.96      0.96      0.96     10000\n",
      "weighted avg       0.96      0.96      0.96     10000\n",
      "\n"
     ]
    },
    {
     "data": {
      "text/plain": [
       "{'precision': 0.9605874950757795,\n",
       " 'recall': 0.9605,\n",
       " 'f1-score': 0.960514668681651,\n",
       " 'support': 10000}"
      ]
     },
     "execution_count": 26,
     "metadata": {},
     "output_type": "execute_result"
    }
   ],
   "source": [
    "y_pred = rede_simples.predict_classes(X_test)\n",
    "\n",
    "from sklearn.metrics import classification_report, confusion_matrix\n",
    "\n",
    "print(\"Matriz de confusão do modelo nos dados de teste:\\n\")\n",
    "print(confusion_matrix(y_test, y_pred))\n",
    "\n",
    "print(\"\\nMatriz de confusão do modelo nos dados de teste:\\n\")\n",
    "print(classification_report(y_test, y_pred))\n",
    "\n",
    "classification_report(y_test, y_pred, output_dict=True)['weighted avg']"
   ]
  },
  {
   "cell_type": "markdown",
   "metadata": {},
   "source": [
    "O modelo melhorou!\n",
    "\n",
    "Isso é um forte indicativo de que o Early Stopping ajudou a evitar o overfitting!"
   ]
  },
  {
   "cell_type": "markdown",
   "metadata": {},
   "source": [
    "_________\n",
    "\n",
    "Vimos acima uma forma de evitar o overfitting em redes neurais, mas esta definitivamente não é a única maneira! Existem inúmeras técnicas para mitigar este problema, entre elas a aplicação de **técnicas de regularização** (leia sobre isso [aqui](https://towardsdatascience.com/how-to-improve-a-neural-network-with-regularization-8a18ecda9fe3) e [aqui](https://towardsdatascience.com/regularization-techniques-and-their-implementation-in-tensorflow-keras-c06e7551e709))), cuja implementação existe no Keras! (mais informações [aqui](https://keras.io/api/layers/regularization_layers/) e [aqui](https://keras.io/api/layers/regularizers/)))"
   ]
  },
  {
   "cell_type": "markdown",
   "metadata": {},
   "source": [
    "____\n",
    "____\n",
    "___"
   ]
  },
  {
   "cell_type": "markdown",
   "metadata": {},
   "source": [
    "## 4) Outras arquiteturas de RNAs\n",
    "\n",
    "Os modelos de redes neurais formam uma classe enorme de modelos, de grande variedade e aplicabilidade!\n",
    "\n",
    "Além da rede neural simples que construímos (uma **rede neural densa (fully-connected)**), há muitas outras arquiteturas!\n",
    "\n",
    "A imagem a seguir ilustra esta enorme diversidade:\n",
    "\n",
    "<img src=\"https://miro.medium.com/max/4000/1*cuTSPlTq0a_327iTPJyD-Q.png\" width=500>\n",
    "\n",
    "__Para saber um pouco mais dessas muitas arquiteturas, [clique aqui!](https://towardsdatascience.com/the-mostly-complete-chart-of-neural-networks-explained-3fb6f2367464)__\n",
    "\n",
    "Vamos mencionar duas arquiteturas muito especiais:\n",
    "\n",
    "### Redes Neurais Convolucionais (CNN)\n",
    "\n",
    "Utilizam-se de **convoluções** nas camadas iniciais.\n",
    "\n",
    "<img src=\"https://miro.medium.com/max/2340/1*Fw-ehcNBR9byHtho-Rxbtw.gif\" width=300>\n",
    "\n",
    "> Estas redes são especializadas para modelos que envolvam **imagens**, sendo, portanto, a principal escolha para modelos de **visão computacional**\n",
    "\n",
    "<img src=\"https://miro.medium.com/max/3288/1*uAeANQIOQPqWZnnuH-VEyw.jpeg\" width=600>\n",
    "\n",
    "<img src=\"https://miro.medium.com/max/1200/1*XbuW8WuRrAY5pC4t-9DZAQ.jpeg\" width=600>\n",
    "\n",
    "### Redes Neurais Recorrentes (RNN)\n",
    "\n",
    "São redes neurais em que as conexões são feitas de maneira **sequencial e cíclica**\n",
    "\n",
    "> Estas redes são especializadas para modelos que envolvam **dados sequenciais**, como, por exemplo, **textos**, **áudios**, **filmes (sequência de quadros)**, **séries temporais**, etc.\n",
    "\n",
    "<img src=\"https://miro.medium.com/max/1200/1*chs1MCz2rCK4_dFRLnUEIg.png\" width=300>\n",
    "\n",
    "Modelos de RNNs mais sofisticados se utilizam de **células de memória (ex.: LSTM, GRU)** para reter a informação de dados do início da sequência, e propagá-los em todo o modelo:\n",
    "\n",
    "<img src=\"https://www.researchgate.net/profile/Sergio_Guadarrama/publication/319770438/figure/fig1/AS:613925582303265@1523382673457/A-diagram-of-a-basic-RNN-cell-left-and-an-LSTM-memory-cell-right-used-in-this-paper.png\" width=400>\n",
    "\n",
    "\n"
   ]
  },
  {
   "cell_type": "markdown",
   "metadata": {},
   "source": [
    "___\n",
    "___\n",
    "___"
   ]
  },
  {
   "cell_type": "markdown",
   "metadata": {},
   "source": [
    "\n",
    "## 5) Quando usar Redes Neurais?\n",
    "\n",
    "No atual cenário de Big Data em que vivemos (há muitos dados em todo o lugar!), os modelos de Redes Neurais e Deep Learning são cada vez mais utilizados!\n",
    "\n",
    "Isto é possível porque a performance destes modelos aumenta conforme mais dados são utilizados, diferentemente dos modelos tradicionais, cuja performance é estabilizada depois de certa quantidade de dados!\n",
    "\n",
    "\n",
    "<img src=\"https://www.sumologic.com/wp-content/uploads/performances_vs_data.png\" width=\"400\" />\n",
    "\n",
    "\n",
    "Então, é de se esperar que os modelos de Deep Learning funcionem melhor nos cenários em que há **muitos dados disponíveis**.\n",
    "\n",
    "No entanto, se houver tempo e recursos computacionais disponíveis, é sempre uma ideia construir também um modelo de Deep Learning juntamente de outros modelos de Machine Learning, e então comparar qual tem melhor performance! :)\n",
    "\n",
    "\n",
    "### **Mas e o tal do \"Deep Learning\"?**\n",
    "\n",
    "De forma geral, uma rede neural é chamada de \"profunda\" (deep), se ela tiver mais de uma camada oculta. Neste caso, temos uma **\"Rede Neural Profunda\" (Deep Neural Network)**.\n",
    "\n",
    "<img src=\"https://thedatascientist.com/wp-content/uploads/2018/03/simple_neural_network_vs_deep_learning.jpg\" width=500>\n",
    "\n",
    "O termo \"Deep Learning\" é utilizado pra se referir a modelos que usam Redes Neurais Profundas, mas este termo engloba também outras **arquiteturas** de redes neurais mais especializadas e complexas, como CNNs e RNNs, que inevitavelmente são \"profundas\", por construção."
   ]
  }
 ],
 "metadata": {
  "kernelspec": {
   "display_name": "Python 3",
   "language": "python",
   "name": "python3"
  },
  "language_info": {
   "codemirror_mode": {
    "name": "ipython",
    "version": 3
   },
   "file_extension": ".py",
   "mimetype": "text/x-python",
   "name": "python",
   "nbconvert_exporter": "python",
   "pygments_lexer": "ipython3",
   "version": "3.7.6"
  }
 },
 "nbformat": 4,
 "nbformat_minor": 2
}

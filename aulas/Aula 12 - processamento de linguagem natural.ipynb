{
 "cells": [
  {
   "cell_type": "markdown",
   "metadata": {},
   "source": [
    "# Aula 12 - processamento de linguagem natural (NLP)\n",
    "\n",
    "Na aula de hoje, vamos explorar os seguintes tópicos em Python:\n",
    "\n",
    "- 1) NLP\n",
    "- 2) Pré-processamento\n",
    "    - 2.1) Remoção de pontuação\n",
    "    - 2.2) Tokenização\n",
    "    - 2.3) Text Normalization\n",
    "        - 2.3.1) Case lowering\n",
    "        - 2.3.2) Lemmatização\n",
    "        - 2.3.3) Remoção de StopWords\n",
    "        - 2.3.4) Voltando para strings\n",
    "- 3) Corpus\n",
    "- 4) Modelo de representação: Bag of Words\n",
    "- 5) Modelo de representação: TF-IDF\n",
    "- 6) Curva AUC-ROC (AUROC)\n"
   ]
  },
  {
   "cell_type": "markdown",
   "metadata": {},
   "source": [
    "_____\n",
    "_____\n",
    "_____"
   ]
  },
  {
   "cell_type": "markdown",
   "metadata": {},
   "source": [
    "# 1) NLP\n",
    "\n",
    "O **processamento de linguagem natural** ou **NLP (Natural Language Processing)**, consiste no processamento de dados da linguagem humana (como texto, áudios transcritos, etc.)\n",
    "\n",
    "E através de técnicas de NLP que é possível construir **tradutores**, **chatbots**, **sistemas de reconhecimento de voz**, **análise de sentimento** e tantas outras aplicações!\n",
    "\n",
    "<img src=\"https://d35fo82fjcw0y8.cloudfront.net/2019/05/27153113/what-is-natural-language-processing.jpg\" width=400>\n",
    "\n",
    "Nesta aula, iremos ver as técnicas mais comuns para se tratar textos, extrair informações e **construir modelos preditivos a partir de dados textuais**.\n",
    "\n",
    "A biblioteca que iremos utilizar para algumas destas tarefas é a [NLTK](https://www.nltk.org/)."
   ]
  },
  {
   "cell_type": "markdown",
   "metadata": {},
   "source": [
    "______"
   ]
  },
  {
   "cell_type": "code",
   "execution_count": 1,
   "metadata": {},
   "outputs": [],
   "source": [
    "# importe as bibliotecas\n",
    "\n",
    "import pandas as pd\n",
    "import numpy as np\n",
    "import matplotlib.pyplot as plt\n",
    "import seaborn as sns"
   ]
  },
  {
   "cell_type": "markdown",
   "metadata": {},
   "source": [
    "Vamos direto pro nosso exemplo pra introduzir cada uma das ideias de NLP!\n",
    "\n",
    "Utilizaremos uma [base de dados](https://www.kaggle.com/shravan3273/natural-language-processing) que tem apenas duas colunas: uma com o **texto de uma mensagem**, e uma coluna que indica se a mensagem **é spam ou ham**."
   ]
  },
  {
   "cell_type": "code",
   "execution_count": 2,
   "metadata": {
    "ExecuteTime": {
     "end_time": "2020-02-28T00:04:14.143682Z",
     "start_time": "2020-02-28T00:04:14.101771Z"
    }
   },
   "outputs": [],
   "source": [
    "# leia os dados, em '../datasets/spamraw.csv'\n",
    "\n",
    "df = pd.read_csv(\"../datasets/spamraw.csv\")"
   ]
  },
  {
   "cell_type": "code",
   "execution_count": 3,
   "metadata": {},
   "outputs": [
    {
     "data": {
      "text/html": [
       "<div>\n",
       "<style scoped>\n",
       "    .dataframe tbody tr th:only-of-type {\n",
       "        vertical-align: middle;\n",
       "    }\n",
       "\n",
       "    .dataframe tbody tr th {\n",
       "        vertical-align: top;\n",
       "    }\n",
       "\n",
       "    .dataframe thead th {\n",
       "        text-align: right;\n",
       "    }\n",
       "</style>\n",
       "<table border=\"1\" class=\"dataframe\">\n",
       "  <thead>\n",
       "    <tr style=\"text-align: right;\">\n",
       "      <th></th>\n",
       "      <th>type</th>\n",
       "      <th>text</th>\n",
       "    </tr>\n",
       "  </thead>\n",
       "  <tbody>\n",
       "    <tr>\n",
       "      <th>0</th>\n",
       "      <td>ham</td>\n",
       "      <td>Hope you are having a good week. Just checking in</td>\n",
       "    </tr>\n",
       "    <tr>\n",
       "      <th>1</th>\n",
       "      <td>ham</td>\n",
       "      <td>K..give back my thanks.</td>\n",
       "    </tr>\n",
       "    <tr>\n",
       "      <th>2</th>\n",
       "      <td>ham</td>\n",
       "      <td>Am also doing in cbe only. But have to pay.</td>\n",
       "    </tr>\n",
       "    <tr>\n",
       "      <th>3</th>\n",
       "      <td>spam</td>\n",
       "      <td>complimentary 4 STAR Ibiza Holiday or £10,000 ...</td>\n",
       "    </tr>\n",
       "    <tr>\n",
       "      <th>4</th>\n",
       "      <td>spam</td>\n",
       "      <td>okmail: Dear Dave this is your final notice to...</td>\n",
       "    </tr>\n",
       "    <tr>\n",
       "      <th>...</th>\n",
       "      <td>...</td>\n",
       "      <td>...</td>\n",
       "    </tr>\n",
       "    <tr>\n",
       "      <th>5554</th>\n",
       "      <td>ham</td>\n",
       "      <td>You are a great role model. You are giving so ...</td>\n",
       "    </tr>\n",
       "    <tr>\n",
       "      <th>5555</th>\n",
       "      <td>ham</td>\n",
       "      <td>Awesome, I remember the last time we got someb...</td>\n",
       "    </tr>\n",
       "    <tr>\n",
       "      <th>5556</th>\n",
       "      <td>spam</td>\n",
       "      <td>If you don't, your prize will go to another cu...</td>\n",
       "    </tr>\n",
       "    <tr>\n",
       "      <th>5557</th>\n",
       "      <td>spam</td>\n",
       "      <td>SMS. ac JSco: Energy is high, but u may not kn...</td>\n",
       "    </tr>\n",
       "    <tr>\n",
       "      <th>5558</th>\n",
       "      <td>ham</td>\n",
       "      <td>Shall call now dear having food</td>\n",
       "    </tr>\n",
       "  </tbody>\n",
       "</table>\n",
       "<p>5559 rows × 2 columns</p>\n",
       "</div>"
      ],
      "text/plain": [
       "      type                                               text\n",
       "0      ham  Hope you are having a good week. Just checking in\n",
       "1      ham                            K..give back my thanks.\n",
       "2      ham        Am also doing in cbe only. But have to pay.\n",
       "3     spam  complimentary 4 STAR Ibiza Holiday or £10,000 ...\n",
       "4     spam  okmail: Dear Dave this is your final notice to...\n",
       "...    ...                                                ...\n",
       "5554   ham  You are a great role model. You are giving so ...\n",
       "5555   ham  Awesome, I remember the last time we got someb...\n",
       "5556  spam  If you don't, your prize will go to another cu...\n",
       "5557  spam  SMS. ac JSco: Energy is high, but u may not kn...\n",
       "5558   ham                    Shall call now dear having food\n",
       "\n",
       "[5559 rows x 2 columns]"
      ]
     },
     "execution_count": 3,
     "metadata": {},
     "output_type": "execute_result"
    }
   ],
   "source": [
    "df"
   ]
  },
  {
   "cell_type": "code",
   "execution_count": 4,
   "metadata": {},
   "outputs": [
    {
     "data": {
      "text/plain": [
       "'complimentary 4 STAR Ibiza Holiday or £10,000 cash needs your URGENT collection. 09066364349 NOW from Landline not to lose out! Box434SK38WP150PPM18+'"
      ]
     },
     "execution_count": 4,
     "metadata": {},
     "output_type": "execute_result"
    }
   ],
   "source": [
    "df.loc[3, \"text\"]"
   ]
  },
  {
   "cell_type": "code",
   "execution_count": 5,
   "metadata": {},
   "outputs": [
    {
     "name": "stdout",
     "output_type": "stream",
     "text": [
      "<class 'pandas.core.frame.DataFrame'>\n",
      "RangeIndex: 5559 entries, 0 to 5558\n",
      "Data columns (total 2 columns):\n",
      " #   Column  Non-Null Count  Dtype \n",
      "---  ------  --------------  ----- \n",
      " 0   type    5559 non-null   object\n",
      " 1   text    5559 non-null   object\n",
      "dtypes: object(2)\n",
      "memory usage: 87.0+ KB\n"
     ]
    }
   ],
   "source": [
    "df.info()"
   ]
  },
  {
   "cell_type": "code",
   "execution_count": 6,
   "metadata": {
    "ExecuteTime": {
     "end_time": "2020-02-28T00:04:32.353401Z",
     "start_time": "2020-02-28T00:04:32.200685Z"
    },
    "scrolled": true
   },
   "outputs": [
    {
     "data": {
      "text/plain": [
       "ham     4812\n",
       "spam     747\n",
       "Name: type, dtype: int64"
      ]
     },
     "execution_count": 6,
     "metadata": {},
     "output_type": "execute_result"
    }
   ],
   "source": [
    "# dando uma olhada na distribuição do target\n",
    "\n",
    "df[\"type\"].value_counts()"
   ]
  },
  {
   "cell_type": "markdown",
   "metadata": {},
   "source": [
    "Há um enorme desbalanço no target! Como fizemos antes, seguiremos com o **undersampling**"
   ]
  },
  {
   "cell_type": "code",
   "execution_count": 7,
   "metadata": {},
   "outputs": [],
   "source": [
    "def undersample(df, column_name = 'y'):\n",
    "\n",
    "    # capta o número de instâncias que cada classe vai passar a ter\n",
    "    # no undersampling, pegando o número de elementos na classe minoritária\n",
    "    n = df[column_name].value_counts().min()\n",
    "      \n",
    "    # cria um novo dataframe com as colunas do df original\n",
    "    new_df = pd.DataFrame()\n",
    "    \n",
    "    # esse loop percorre todos os valores unicos da coluna a ser reamostrada\n",
    "    for x in df[column_name].unique():\n",
    "        \n",
    "        filtered_df = df[df[column_name] == x]\n",
    "            \n",
    "        new_df = pd.concat([new_df, filtered_df.sample(n, random_state=42)])\n",
    "        \n",
    "    return new_df\n",
    "\n",
    "# realize o undersampling estratificado\n",
    "df_resamp = undersample(df, 'type')"
   ]
  },
  {
   "cell_type": "code",
   "execution_count": 8,
   "metadata": {},
   "outputs": [
    {
     "data": {
      "text/plain": [
       "ham     747\n",
       "spam    747\n",
       "Name: type, dtype: int64"
      ]
     },
     "execution_count": 8,
     "metadata": {},
     "output_type": "execute_result"
    }
   ],
   "source": [
    "df_resamp[\"type\"].value_counts()"
   ]
  },
  {
   "cell_type": "code",
   "execution_count": 9,
   "metadata": {},
   "outputs": [],
   "source": [
    "df = df_resamp.copy()\n",
    "\n",
    "# separando as features e o target\n",
    "X = df[\"text\"]\n",
    "y = df[\"type\"]\n",
    "\n",
    "# criando uma cópia para compararmos abaixo após as modificações\n",
    "X_orig = X.copy()"
   ]
  },
  {
   "cell_type": "markdown",
   "metadata": {},
   "source": [
    "Vamos agora conhecer e aplicar as técnicas de NLP!\n",
    "\n",
    "As primeiras técnicas serão aplicadas no **pré-processamento** dos dados textuais"
   ]
  },
  {
   "cell_type": "markdown",
   "metadata": {},
   "source": [
    "____\n",
    "____\n",
    "____"
   ]
  },
  {
   "cell_type": "markdown",
   "metadata": {},
   "source": [
    "## 2) Pré-processamento\n",
    "\n",
    "Vamos ver agora as principais etapas e ferramentas de **pré-processamento de dados textuais!**\n",
    "\n",
    "### 2.1) Remoção de pontuação\n",
    "\n",
    "Na grande parte dos casos, as pontuações (!,?. etc) não são de interesse, e podem ser tiradas dos textos.\n",
    "\n",
    "Assim, o **primeiro passo** do pré-processamento costuma ser uma limpeza de pontuação:"
   ]
  },
  {
   "cell_type": "code",
   "execution_count": 10,
   "metadata": {},
   "outputs": [
    {
     "data": {
      "text/plain": [
       "'essa aqui é uma frase com algumas pontuações será que é mesmo'"
      ]
     },
     "execution_count": 10,
     "metadata": {},
     "output_type": "execute_result"
    }
   ],
   "source": [
    "texto = \"essa, aqui, é uma frase com: algumas pontuações!!; (será que é mesmo?)\"\n",
    "\n",
    "import string\n",
    "\n",
    "texto.translate(str.maketrans('', '', string.punctuation))"
   ]
  },
  {
   "cell_type": "code",
   "execution_count": 11,
   "metadata": {},
   "outputs": [
    {
     "data": {
      "text/plain": [
       "5330                    Yay can't wait to party together!\n",
       "4615                               You got called a tool?\n",
       "916     Still chance there. If you search hard you wil...\n",
       "1189    Dai what this da.. Can i send my resume to thi...\n",
       "11                                      I anything lor...\n",
       "                              ...                        \n",
       "553     This is the 2nd time we have tried 2 contact u...\n",
       "789     Dear Voucher Holder, 2 claim this weeks offer,...\n",
       "2039    FREE entry into our £250 weekly comp just send...\n",
       "3274    URGENT! Your Mobile No. was awarded £2000 Bonu...\n",
       "768     money!!! you r a lucky winner ! 2 claim your p...\n",
       "Name: text, Length: 1494, dtype: object"
      ]
     },
     "execution_count": 11,
     "metadata": {},
     "output_type": "execute_result"
    }
   ],
   "source": [
    "X"
   ]
  },
  {
   "cell_type": "code",
   "execution_count": 12,
   "metadata": {},
   "outputs": [],
   "source": [
    "import string\n",
    "\n",
    "# elimina pontuações\n",
    "X = X.apply(lambda x: x.translate(str.maketrans('', '', string.punctuation)))    "
   ]
  },
  {
   "cell_type": "code",
   "execution_count": 13,
   "metadata": {},
   "outputs": [],
   "source": [
    "# # ou então, utilizando regex:\n",
    "\n",
    "# import re\n",
    "\n",
    "# # elimina pontuações\n",
    "# X.apply(lambda x: re.sub(\"[^a-zA-Z0-9 ]\", \"\", x))"
   ]
  },
  {
   "cell_type": "code",
   "execution_count": 14,
   "metadata": {},
   "outputs": [
    {
     "data": {
      "text/plain": [
       "5330                      Yay cant wait to party together\n",
       "4615                                You got called a tool\n",
       "916     Still chance there If you search hard you will...\n",
       "1189     Dai what this da Can i send my resume to this id\n",
       "11                                         I anything lor\n",
       "                              ...                        \n",
       "553     This is the 2nd time we have tried 2 contact u...\n",
       "789     Dear Voucher Holder 2 claim this weeks offer a...\n",
       "2039    FREE entry into our £250 weekly comp just send...\n",
       "3274    URGENT Your Mobile No was awarded £2000 Bonus ...\n",
       "768     money you r a lucky winner  2 claim your prize...\n",
       "Name: text, Length: 1494, dtype: object"
      ]
     },
     "execution_count": 14,
     "metadata": {},
     "output_type": "execute_result"
    }
   ],
   "source": [
    "X"
   ]
  },
  {
   "cell_type": "markdown",
   "metadata": {},
   "source": [
    "### 2.2) Tokenização\n",
    "\n",
    "Processo de transformação do texto em \"pedaços\"\n",
    "\n",
    "<img src=\"https://miro.medium.com/max/2414/1*UhfwmhMN9sdfcWIbO5_tGg.jpeg\" width=400>\n",
    "\n",
    "\n",
    "O que será cada **token** é variável: pode ser um único caractere, uma única palavra, algumas palavras, ou até mesmo frases inteiras.\n",
    "\n",
    "Seguiremos no que é o mais comum: utilizar **cada palavra como um token**\n"
   ]
  },
  {
   "cell_type": "code",
   "execution_count": 15,
   "metadata": {},
   "outputs": [
    {
     "data": {
      "text/plain": [
       "['uma', 'string', 'separada', 'em', 'lista']"
      ]
     },
     "execution_count": 15,
     "metadata": {},
     "output_type": "execute_result"
    }
   ],
   "source": [
    "\"uma string separada em lista\".split()"
   ]
  },
  {
   "cell_type": "code",
   "execution_count": 16,
   "metadata": {},
   "outputs": [
    {
     "data": {
      "text/plain": [
       "5330               [Yay, cant, wait, to, party, together]\n",
       "4615                          [You, got, called, a, tool]\n",
       "916     [Still, chance, there, If, you, search, hard, ...\n",
       "1189    [Dai, what, this, da, Can, i, send, my, resume...\n",
       "11                                     [I, anything, lor]\n",
       "                              ...                        \n",
       "553     [This, is, the, 2nd, time, we, have, tried, 2,...\n",
       "789     [Dear, Voucher, Holder, 2, claim, this, weeks,...\n",
       "2039    [FREE, entry, into, our, £250, weekly, comp, j...\n",
       "3274    [URGENT, Your, Mobile, No, was, awarded, £2000...\n",
       "768     [money, you, r, a, lucky, winner, 2, claim, yo...\n",
       "Name: text, Length: 1494, dtype: object"
      ]
     },
     "execution_count": 16,
     "metadata": {},
     "output_type": "execute_result"
    }
   ],
   "source": [
    "X.apply(lambda x: x.split())"
   ]
  },
  {
   "cell_type": "code",
   "execution_count": 17,
   "metadata": {},
   "outputs": [],
   "source": [
    "X = X.apply(lambda x: x.split())"
   ]
  },
  {
   "cell_type": "code",
   "execution_count": 18,
   "metadata": {},
   "outputs": [
    {
     "name": "stdout",
     "output_type": "stream",
     "text": [
      "\n",
      "Original:\n",
      "Hey you still want to go for yogasana? Coz if we end at cine then can go bathe and hav the steam bath\n",
      "\n",
      "Após a tokenização:\n",
      "['Hey', 'you', 'still', 'want', 'to', 'go', 'for', 'yogasana', 'Coz', 'if', 'we', 'end', 'at', 'cine', 'then', 'can', 'go', 'bathe', 'and', 'hav', 'the', 'steam', 'bath']\n",
      "\n",
      "Label: ham\n"
     ]
    }
   ],
   "source": [
    "# comparando...\n",
    "\n",
    "idx = 52\n",
    "print('\\nOriginal:')\n",
    "print(X_orig.iloc[idx])\n",
    "print('\\nApós a tokenização:')\n",
    "print(X.iloc[idx])\n",
    "\n",
    "print(\"\\nLabel:\", y.iloc[idx])"
   ]
  },
  {
   "cell_type": "markdown",
   "metadata": {},
   "source": [
    "### 2.3) Text Normalization\n",
    "\n",
    "**Text normalization** é o procedimento que consiste em **padronizar** o texto, de modo a evitar que variações tornem os modelos demasiadamente complexos. Por exemplo: tratar singular/plural como a mesma coisa, ou então eliminar conjugação de verbos. Outras componentes comuns do text normalization é a de eliminar palavras que não agregam muito significado, ou palavras muito raras.\n",
    "\n",
    "Abaixo alguns exemplos de ações de Text Normalization que podem ser aplicadas no pré-processamento de dados textuais:\n",
    "\n",
    "**Stemming** - Redução de tokens à sua raiz invariante através da **remoção de prefixos ou sufixos**. Baseado em heurística<br>\n",
    "**Lemmatization** - Redução de tokens à sua raiz invariante através da **análise linguística do token**. Baseado em dicionário léxico<br>\n",
    "\n",
    "<img src=\"https://qph.fs.quoracdn.net/main-qimg-cd7f4bafaa42639deb999b1580bea69f\" width=400>\n",
    "\n",
    "\n",
    "**Remoção de Stopwords** - Extração de palavras com baixo poder informativo<br>\n",
    "**Case Lowering** - Deixa seu texto case-insensitive, reduzindo o número de dimensões \n",
    "\n",
    "\n",
    "O text normalization também é fundamental no **uso de modelos treinados**: Quando alguem digita \"resume\" no google, a intenção era achar a palavra \"résumé\", então o processo de normalização é importante para tratar o input de dados!"
   ]
  },
  {
   "cell_type": "markdown",
   "metadata": {},
   "source": [
    "### 2.3.1) Case lowering\n",
    "\n",
    "Vamos começar **deixando todos os tokens em letra minúscula**"
   ]
  },
  {
   "cell_type": "code",
   "execution_count": 19,
   "metadata": {},
   "outputs": [
    {
     "data": {
      "text/plain": [
       "5330               [Yay, cant, wait, to, party, together]\n",
       "4615                          [You, got, called, a, tool]\n",
       "916     [Still, chance, there, If, you, search, hard, ...\n",
       "1189    [Dai, what, this, da, Can, i, send, my, resume...\n",
       "11                                     [I, anything, lor]\n",
       "                              ...                        \n",
       "553     [This, is, the, 2nd, time, we, have, tried, 2,...\n",
       "789     [Dear, Voucher, Holder, 2, claim, this, weeks,...\n",
       "2039    [FREE, entry, into, our, £250, weekly, comp, j...\n",
       "3274    [URGENT, Your, Mobile, No, was, awarded, £2000...\n",
       "768     [money, you, r, a, lucky, winner, 2, claim, yo...\n",
       "Name: text, Length: 1494, dtype: object"
      ]
     },
     "execution_count": 19,
     "metadata": {},
     "output_type": "execute_result"
    }
   ],
   "source": [
    "X"
   ]
  },
  {
   "cell_type": "code",
   "execution_count": 20,
   "metadata": {},
   "outputs": [
    {
     "data": {
      "text/plain": [
       "5330               [yay, cant, wait, to, party, together]\n",
       "4615                          [you, got, called, a, tool]\n",
       "916     [still, chance, there, if, you, search, hard, ...\n",
       "1189    [dai, what, this, da, can, i, send, my, resume...\n",
       "11                                     [i, anything, lor]\n",
       "                              ...                        \n",
       "553     [this, is, the, 2nd, time, we, have, tried, 2,...\n",
       "789     [dear, voucher, holder, 2, claim, this, weeks,...\n",
       "2039    [free, entry, into, our, £250, weekly, comp, j...\n",
       "3274    [urgent, your, mobile, no, was, awarded, £2000...\n",
       "768     [money, you, r, a, lucky, winner, 2, claim, yo...\n",
       "Name: text, Length: 1494, dtype: object"
      ]
     },
     "execution_count": 20,
     "metadata": {},
     "output_type": "execute_result"
    }
   ],
   "source": [
    "X.apply(lambda lista: [token.lower() for token in lista])"
   ]
  },
  {
   "cell_type": "code",
   "execution_count": 21,
   "metadata": {},
   "outputs": [],
   "source": [
    "X = X.apply(lambda x: [token.lower() for token in x])"
   ]
  },
  {
   "cell_type": "code",
   "execution_count": 22,
   "metadata": {},
   "outputs": [
    {
     "name": "stdout",
     "output_type": "stream",
     "text": [
      "\n",
      "Original:\n",
      "Aiyah ok wat as long as got improve can already wat...\n",
      "\n",
      "Após a tokenização + lower:\n",
      "['aiyah', 'ok', 'wat', 'as', 'long', 'as', 'got', 'improve', 'can', 'already', 'wat']\n",
      "\n",
      "Label: ham\n"
     ]
    }
   ],
   "source": [
    "# comparando...\n",
    "\n",
    "idx = 42\n",
    "print('\\nOriginal:')\n",
    "print(X_orig.iloc[idx])\n",
    "print('\\nApós a tokenização + lower:')\n",
    "print(X.iloc[idx])\n",
    "\n",
    "print(\"\\nLabel:\", y.iloc[idx])"
   ]
  },
  {
   "cell_type": "markdown",
   "metadata": {},
   "source": [
    "### 2.3.2) Lematização\n",
    "\n",
    "Vamos agora fazer o processo de lemmatização.\n",
    "\n",
    "Como discutimos acima, o processo de lemmatização precisa de uma espécie de \"dicionário\" para a análise linguística do token, e sua substituição pelo lemma.\n",
    "\n",
    "A NLTK contém este dicionário: o [WordNet](https://www.nltk.org/howto/wordnet.html), que é um \"banco de dados lexical de relações semânticas entre palavras em mais de 200 idiomas. O WordNet vincula palavras a relações semânticas, incluindo sinônimos, hiponímias e merônimos. Os sinônimos são agrupados em sincronizações com definições breves e exemplos de uso\".\n"
   ]
  },
  {
   "cell_type": "code",
   "execution_count": 23,
   "metadata": {},
   "outputs": [
    {
     "name": "stderr",
     "output_type": "stream",
     "text": [
      "[nltk_data] Downloading package wordnet to\n",
      "[nltk_data]     C:\\Users\\Andre\\AppData\\Roaming\\nltk_data...\n",
      "[nltk_data]   Package wordnet is already up-to-date!\n"
     ]
    },
    {
     "data": {
      "text/plain": [
       "True"
      ]
     },
     "execution_count": 23,
     "metadata": {},
     "output_type": "execute_result"
    }
   ],
   "source": [
    "# import these modules \n",
    "from nltk.stem import WordNetLemmatizer \n",
    "from nltk import download\n",
    "\n",
    "# na primeira vez, é necessário baixar o wordnet\n",
    "# após a primeira vez, pode comentar a linha abaixo\n",
    "download('wordnet')"
   ]
  },
  {
   "cell_type": "code",
   "execution_count": 24,
   "metadata": {},
   "outputs": [
    {
     "name": "stdout",
     "output_type": "stream",
     "text": [
      "rocks : rock\n",
      "corpora : corpus\n",
      "running : run\n",
      "went : go\n"
     ]
    }
   ],
   "source": [
    "lemmatizer = WordNetLemmatizer() \n",
    "  \n",
    "print(\"rocks :\", lemmatizer.lemmatize(\"rocks\")) \n",
    "print(\"corpora :\", lemmatizer.lemmatize(\"corpora\")) \n",
    "\n",
    "# argumento \"pos\" indica a qual classe gramatical o token pertence\n",
    "print(\"running :\", lemmatizer.lemmatize(\"running\", pos = \"v\")) \n",
    "print(\"went :\", lemmatizer.lemmatize(\"went\", pos = 'v'))"
   ]
  },
  {
   "cell_type": "markdown",
   "metadata": {},
   "source": [
    "Para identificarmos automaticamente a classe gramatical (**part of speech**), podemos usar a função `pos_tag`"
   ]
  },
  {
   "cell_type": "code",
   "execution_count": 25,
   "metadata": {},
   "outputs": [
    {
     "name": "stderr",
     "output_type": "stream",
     "text": [
      "[nltk_data] Downloading package maxent_treebank_pos_tagger to\n",
      "[nltk_data]     C:\\Users\\Andre\\AppData\\Roaming\\nltk_data...\n",
      "[nltk_data]   Package maxent_treebank_pos_tagger is already up-to-\n",
      "[nltk_data]       date!\n"
     ]
    },
    {
     "data": {
      "text/plain": [
       "True"
      ]
     },
     "execution_count": 25,
     "metadata": {},
     "output_type": "execute_result"
    }
   ],
   "source": [
    "from nltk import pos_tag\n",
    "\n",
    "# o código abaixo baixa o pos_tagger\n",
    "download('maxent_treebank_pos_tagger')"
   ]
  },
  {
   "cell_type": "code",
   "execution_count": 26,
   "metadata": {},
   "outputs": [
    {
     "name": "stderr",
     "output_type": "stream",
     "text": [
      "[nltk_data] Downloading package averaged_perceptron_tagger to\n",
      "[nltk_data]     C:\\Users\\Andre\\AppData\\Roaming\\nltk_data...\n",
      "[nltk_data]   Package averaged_perceptron_tagger is already up-to-\n",
      "[nltk_data]       date!\n"
     ]
    },
    {
     "data": {
      "text/plain": [
       "True"
      ]
     },
     "execution_count": 26,
     "metadata": {},
     "output_type": "execute_result"
    }
   ],
   "source": [
    "import nltk\n",
    "\n",
    "nltk.download('averaged_perceptron_tagger')"
   ]
  },
  {
   "cell_type": "code",
   "execution_count": 27,
   "metadata": {},
   "outputs": [
    {
     "name": "stdout",
     "output_type": "stream",
     "text": [
      "[('running', 'VBG')]\n",
      "[('rocks', 'NNS')]\n",
      "[('better', 'RBR')]\n",
      "[('nice', 'JJ')]\n"
     ]
    }
   ],
   "source": [
    "print(pos_tag([\"running\"]))\n",
    "print(pos_tag([\"rocks\"]))\n",
    "print(pos_tag([\"better\"]))\n",
    "print(pos_tag([\"nice\"]))"
   ]
  },
  {
   "cell_type": "markdown",
   "metadata": {},
   "source": [
    "Mas o argumento \"pos\" do wordnet deve ser algumas das classes gramaticais. Segundo [esta lista](https://www.ling.upenn.edu/courses/Fall_2003/ling001/penn_treebank_pos.html), vamos utilizar a seguinte conversão:"
   ]
  },
  {
   "cell_type": "code",
   "execution_count": 28,
   "metadata": {},
   "outputs": [],
   "source": [
    "# dicionário de conversão\n",
    "\n",
    "# função usada pro valor padrão do dicionário\n",
    "from collections import defaultdict\n",
    "\n",
    "from nltk.corpus import wordnet as wn\n",
    "\n",
    "# se houver qualquer outro valor de chave, dizemos que será NOUN\n",
    "tag_map = defaultdict(lambda : wn.NOUN)\n",
    "tag_map['N'] = wn.NOUN\n",
    "tag_map['J'] = wn.ADJ\n",
    "tag_map['V'] = wn.VERB\n",
    "tag_map['R'] = wn.ADV"
   ]
  },
  {
   "cell_type": "code",
   "execution_count": 29,
   "metadata": {},
   "outputs": [
    {
     "data": {
      "text/plain": [
       "defaultdict(<function __main__.<lambda>()>,\n",
       "            {'N': 'n', 'J': 'a', 'V': 'v', 'R': 'r'})"
      ]
     },
     "execution_count": 29,
     "metadata": {},
     "output_type": "execute_result"
    }
   ],
   "source": [
    "tag_map"
   ]
  },
  {
   "cell_type": "markdown",
   "metadata": {},
   "source": [
    "As chaves do dicionário devem ser **a primeira letra** da tag!"
   ]
  },
  {
   "cell_type": "code",
   "execution_count": 30,
   "metadata": {},
   "outputs": [
    {
     "name": "stdout",
     "output_type": "stream",
     "text": [
      "\n",
      "Frase tokenizada: ['Another', 'way', 'of', 'achieving', 'this', 'tasks'] \n",
      "\n",
      "\n",
      "Another => Another\n",
      "way => way\n",
      "of => of\n",
      "achieving => achieve\n",
      "this => this\n",
      "tasks => task\n"
     ]
    }
   ],
   "source": [
    "text = \"Another way of achieving this tasks\"\n",
    "tokens = text.split()\n",
    "\n",
    "print(\"\\nFrase tokenizada:\", tokens, \"\\n\\n\")\n",
    "\n",
    "for token in tokens:\n",
    "    \n",
    "    pos = pos_tag([token])[0][1]\n",
    "    \n",
    "#     print(token, pos_tag([token]), pos, pos[0])\n",
    "    \n",
    "    lemma = lemmatizer.lemmatize(token, tag_map[pos[0]])\n",
    "    \n",
    "    print(token, \"=>\", lemma)"
   ]
  },
  {
   "cell_type": "markdown",
   "metadata": {},
   "source": [
    "Assim, podemos fazer:"
   ]
  },
  {
   "cell_type": "code",
   "execution_count": 31,
   "metadata": {},
   "outputs": [],
   "source": [
    "X = X.apply(lambda x: [lemmatizer.lemmatize(token, tag_map[pos_tag([token])[0][1][0]]) for token in x])"
   ]
  },
  {
   "cell_type": "code",
   "execution_count": 32,
   "metadata": {},
   "outputs": [
    {
     "name": "stdout",
     "output_type": "stream",
     "text": [
      "\n",
      "Original:\n",
      "It does it on its own. Most of the time it fixes my spelling. But sometimes it gets a completely diff word. Go figure\n",
      "\n",
      "Após a tokenização + lower + lematização:\n",
      "['it', 'do', 'it', 'on', 'it', 'own', 'most', 'of', 'the', 'time', 'it', 'fix', 'my', 'spell', 'but', 'sometimes', 'it', 'get', 'a', 'completely', 'diff', 'word', 'go', 'figure']\n",
      "\n",
      "Label: ham\n"
     ]
    }
   ],
   "source": [
    "# comparando...\n",
    "\n",
    "idx = 10\n",
    "print('\\nOriginal:')\n",
    "print(X_orig.iloc[idx])\n",
    "print('\\nApós a tokenização + lower + lematização:')\n",
    "print(X.iloc[idx])\n",
    "\n",
    "print(\"\\nLabel:\", y.iloc[idx])"
   ]
  },
  {
   "cell_type": "markdown",
   "metadata": {},
   "source": [
    "### 2.3.3) Remoção de StopWords\n",
    "\n",
    "Quando vamos realizar análise de textos, normalmente é comum **filtrarmos palavras com pouco valor semântico**, como por exemplo **artigos e preposições**, pois estas palavras não agregam tanta informação ao texto.\n",
    "\n",
    "Estas palavras são conhecidas como **\"stopwords\"**;\n",
    "\n",
    "Abaixo iremos fazer download de uma lista recomendada de stopwords em inglês e depois extrairemos essas palavras do texto!"
   ]
  },
  {
   "cell_type": "code",
   "execution_count": 33,
   "metadata": {
    "ExecuteTime": {
     "end_time": "2020-02-28T00:05:59.542061Z",
     "start_time": "2020-02-28T00:05:59.535098Z"
    }
   },
   "outputs": [
    {
     "name": "stderr",
     "output_type": "stream",
     "text": [
      "[nltk_data] Downloading package stopwords to\n",
      "[nltk_data]     C:\\Users\\Andre\\AppData\\Roaming\\nltk_data...\n",
      "[nltk_data]   Package stopwords is already up-to-date!\n"
     ]
    }
   ],
   "source": [
    "from nltk.corpus import stopwords\n",
    "\n",
    "# vaixando a lista de stopwords\n",
    "download('stopwords')\n",
    "\n",
    "# criando uma lista com as stopwords do ingles\n",
    "stopwords_list = stopwords.words('english')"
   ]
  },
  {
   "cell_type": "code",
   "execution_count": 34,
   "metadata": {
    "ExecuteTime": {
     "end_time": "2020-02-28T00:06:01.111346Z",
     "start_time": "2020-02-28T00:06:01.084395Z"
    }
   },
   "outputs": [
    {
     "name": "stdout",
     "output_type": "stream",
     "text": [
      "Stopwords em inglês:\n",
      "\n",
      "['i', 'me', 'my', 'myself', 'we', 'our', 'ours', 'ourselves', 'you', \"you're\", \"you've\", \"you'll\", \"you'd\", 'your', 'yours', 'yourself', 'yourselves', 'he', 'him', 'his', 'himself', 'she', \"she's\", 'her', 'hers', 'herself', 'it', \"it's\", 'its', 'itself', 'they', 'them', 'their', 'theirs', 'themselves', 'what', 'which', 'who', 'whom', 'this', 'that', \"that'll\", 'these', 'those', 'am', 'is', 'are', 'was', 'were', 'be', 'been', 'being', 'have', 'has', 'had', 'having', 'do', 'does', 'did', 'doing', 'a', 'an', 'the', 'and', 'but', 'if', 'or', 'because', 'as', 'until', 'while', 'of', 'at', 'by', 'for', 'with', 'about', 'against', 'between', 'into', 'through', 'during', 'before', 'after', 'above', 'below', 'to', 'from', 'up', 'down', 'in', 'out', 'on', 'off', 'over', 'under', 'again', 'further', 'then', 'once', 'here', 'there', 'when', 'where', 'why', 'how', 'all', 'any', 'both', 'each', 'few', 'more', 'most', 'other', 'some', 'such', 'no', 'nor', 'not', 'only', 'own', 'same', 'so', 'than', 'too', 'very', 's', 't', 'can', 'will', 'just', 'don', \"don't\", 'should', \"should've\", 'now', 'd', 'll', 'm', 'o', 're', 've', 'y', 'ain', 'aren', \"aren't\", 'couldn', \"couldn't\", 'didn', \"didn't\", 'doesn', \"doesn't\", 'hadn', \"hadn't\", 'hasn', \"hasn't\", 'haven', \"haven't\", 'isn', \"isn't\", 'ma', 'mightn', \"mightn't\", 'mustn', \"mustn't\", 'needn', \"needn't\", 'shan', \"shan't\", 'shouldn', \"shouldn't\", 'wasn', \"wasn't\", 'weren', \"weren't\", 'won', \"won't\", 'wouldn', \"wouldn't\"]\n"
     ]
    }
   ],
   "source": [
    "print('Stopwords em inglês:\\n')\n",
    "print(stopwords_list)"
   ]
  },
  {
   "cell_type": "code",
   "execution_count": 35,
   "metadata": {},
   "outputs": [
    {
     "data": {
      "text/plain": [
       "5330                   [yay, cant, wait, party, together]\n",
       "4615                                    [get, call, tool]\n",
       "916        [still, chance, search, hard, get, itlet, try]\n",
       "1189                          [dai, da, send, resume, id]\n",
       "11                                        [anything, lor]\n",
       "                              ...                        \n",
       "553     [2nd, time, try, 2, contact, u, u, 750, pound,...\n",
       "789     [dear, voucher, holder, 2, claim, week, offer,...\n",
       "2039    [free, entry, £250, weekly, comp, send, word, ...\n",
       "3274    [urgent, mobile, award, £2000, bonus, caller, ...\n",
       "768     [money, r, lucky, winner, 2, claim, prize, tex...\n",
       "Name: text, Length: 1494, dtype: object"
      ]
     },
     "execution_count": 35,
     "metadata": {},
     "output_type": "execute_result"
    }
   ],
   "source": [
    "X.apply(lambda x: [token for token in x if token not in stopwords_list])"
   ]
  },
  {
   "cell_type": "code",
   "execution_count": 36,
   "metadata": {},
   "outputs": [],
   "source": [
    "X = X.apply(lambda x: [token for token in x if token not in stopwords_list])"
   ]
  },
  {
   "cell_type": "code",
   "execution_count": 37,
   "metadata": {},
   "outputs": [
    {
     "name": "stdout",
     "output_type": "stream",
     "text": [
      "\n",
      "Original:\n",
      "DO NOT B LATE LOVE MUM\n",
      "\n",
      "Após a tokenização + lower + lematização + remoção de stopwords:\n",
      "['b', 'late', 'love', 'mum']\n",
      "\n",
      "Label: ham\n"
     ]
    }
   ],
   "source": [
    "# comparando...\n",
    "\n",
    "idx = 5\n",
    "print('\\nOriginal:')\n",
    "print(X_orig.iloc[idx])\n",
    "print('\\nApós a tokenização + lower + lematização + remoção de stopwords:')\n",
    "print(X.iloc[idx])\n",
    "\n",
    "print(\"\\nLabel:\", y.iloc[idx])"
   ]
  },
  {
   "cell_type": "markdown",
   "metadata": {},
   "source": [
    "### 2.3.4) Voltando para strings\n",
    "\n",
    "Após ter realizado todas as etapas de pré-processamento, é muito comum que voltemos a lista de tokens pré-processados para strings, como se fosse um \"ciclo\" de pré-processamento! Ou seja, fazemos um processo de \"destokenização\""
   ]
  },
  {
   "cell_type": "code",
   "execution_count": 38,
   "metadata": {},
   "outputs": [
    {
     "data": {
      "text/plain": [
       "5330                         yay cant wait party together\n",
       "4615                                        get call tool\n",
       "916                still chance search hard get itlet try\n",
       "1189                                dai da send resume id\n",
       "11                                           anything lor\n",
       "                              ...                        \n",
       "553     2nd time try 2 contact u u 750 pound prize 2 c...\n",
       "789     dear voucher holder 2 claim week offer pc go h...\n",
       "2039    free entry £250 weekly comp send word enter 84...\n",
       "3274    urgent mobile award £2000 bonus caller prize 5...\n",
       "768     money r lucky winner 2 claim prize text money ...\n",
       "Name: text, Length: 1494, dtype: object"
      ]
     },
     "execution_count": 38,
     "metadata": {},
     "output_type": "execute_result"
    }
   ],
   "source": [
    "X.apply(lambda x: \" \".join(x))"
   ]
  },
  {
   "cell_type": "code",
   "execution_count": 39,
   "metadata": {},
   "outputs": [],
   "source": [
    "X = X.apply(lambda x: \" \".join(x))"
   ]
  },
  {
   "cell_type": "code",
   "execution_count": 40,
   "metadata": {},
   "outputs": [
    {
     "name": "stdout",
     "output_type": "stream",
     "text": [
      "\n",
      "Original:\n",
      "DO NOT B LATE LOVE MUM\n",
      "\n",
      "Após o pipeline completo de pré-processamento:\n",
      "b late love mum\n",
      "\n",
      "Label: ham\n"
     ]
    }
   ],
   "source": [
    "# comparando...\n",
    "\n",
    "idx = 5\n",
    "print('\\nOriginal:')\n",
    "print(X_orig.iloc[idx])\n",
    "print('\\nApós o pipeline completo de pré-processamento:')\n",
    "print(X.iloc[idx])\n",
    "\n",
    "print(\"\\nLabel:\", y.iloc[idx])"
   ]
  },
  {
   "cell_type": "markdown",
   "metadata": {},
   "source": [
    "Aqui terminamos nosso fluxo de pre-processamento de texto!\n",
    "\n",
    "Para resumir, vamos criar uma única função com todas as **etapas de pré-processamento textual** que fizemos acima!\n",
    "\n",
    "Essa função será nosso \"pipeline de pré-processamento textual\"!\n",
    "\n",
    "A função vai contar com alguns argumentos booleanos com o fim de determinar quais estapas do pré-processamento devem ser realizadas."
   ]
  },
  {
   "cell_type": "code",
   "execution_count": 41,
   "metadata": {},
   "outputs": [],
   "source": [
    "def pre_process_pipeline(X, remove_pontuacao=True, lower=True, lemmatize=True, remove_stopwords=True):   \n",
    "    \n",
    "    if remove_pontuacao:\n",
    "        \n",
    "        import string\n",
    "\n",
    "        # elimina pontuações\n",
    "        X = X.apply(lambda x: x.translate(str.maketrans('', '', string.punctuation)))    \n",
    "    \n",
    "    #############################################################################\n",
    "    \n",
    "    # essa é a única etapa obrigatória\n",
    "    X = X.apply(lambda x: x.split())\n",
    "\n",
    "    #############################################################################\n",
    "\n",
    "    if lower:\n",
    "\n",
    "        X = X.apply(lambda x: [token.lower() for token in x])\n",
    "\n",
    "\n",
    "    #############################################################################\n",
    "\n",
    "    if lemmatize:\n",
    "\n",
    "        from collections import defaultdict\n",
    "        from nltk.corpus import wordnet as wn\n",
    "\n",
    "        tag_map = defaultdict(lambda : wn.NOUN)\n",
    "        tag_map['N'] = wn.NOUN\n",
    "        tag_map['J'] = wn.ADJ\n",
    "        tag_map['V'] = wn.VERB\n",
    "        tag_map['R'] = wn.ADV\n",
    "\n",
    "        from nltk.stem import WordNetLemmatizer \n",
    "\n",
    "        lemmatizer = WordNetLemmatizer()\n",
    "\n",
    "        X = X.apply(lambda x: [lemmatizer.lemmatize(token, tag_map[pos_tag([token])[0][1][0]]) for token in x])\n",
    "\n",
    "    #############################################################################\n",
    "\n",
    "    if remove_stopwords:\n",
    "\n",
    "        from nltk.corpus import stopwords\n",
    "\n",
    "        stopwords_list = stopwords.words('english')\n",
    "\n",
    "        X = X.apply(lambda x: [token for token in x if token not in stopwords_list])\n",
    "\n",
    "    #############################################################################\n",
    "    \n",
    "    X = X.apply(lambda x: \" \".join(x))\n",
    "    \n",
    "    #############################################################################\n",
    "    \n",
    "    return X"
   ]
  },
  {
   "cell_type": "code",
   "execution_count": 42,
   "metadata": {},
   "outputs": [],
   "source": [
    "# redefinindo os dados\n",
    "\n",
    "df = df_resamp.copy()\n",
    "\n",
    "X = df[\"text\"]\n",
    "y = df[\"type\"]"
   ]
  },
  {
   "cell_type": "code",
   "execution_count": 43,
   "metadata": {},
   "outputs": [],
   "source": [
    "X = pre_process_pipeline(X)"
   ]
  },
  {
   "cell_type": "code",
   "execution_count": 44,
   "metadata": {},
   "outputs": [
    {
     "name": "stdout",
     "output_type": "stream",
     "text": [
      "\n",
      "Original:\n",
      "DO NOT B LATE LOVE MUM\n",
      "\n",
      "Após o pipeline completo de pré-processamento:\n",
      "b late love mum\n",
      "\n",
      "Label: ham\n"
     ]
    }
   ],
   "source": [
    "# comparando...\n",
    "\n",
    "idx = 5\n",
    "print('\\nOriginal:')\n",
    "print(X_orig.iloc[idx])\n",
    "print('\\nApós o pipeline completo de pré-processamento:')\n",
    "print(X.iloc[idx])\n",
    "\n",
    "print(\"\\nLabel:\", y.iloc[idx])"
   ]
  },
  {
   "cell_type": "markdown",
   "metadata": {},
   "source": [
    "_________\n",
    "___________\n",
    "_________"
   ]
  },
  {
   "cell_type": "markdown",
   "metadata": {},
   "source": [
    "## 3) Corpus"
   ]
  },
  {
   "cell_type": "markdown",
   "metadata": {},
   "source": [
    "Com isso chegamos ao fim do pré-processamento, uma das etapas mais importantes de todo projeto de NLP!\n",
    "\n",
    "É importante ressaltar que a escolha das etapas de pré-processamento não é algo óbvio, dado que há muitas escolhas possíveis acerca do que se fazer para pré-processar os dados. Assim, o indicado é treinar diferentes modelos testando diferentes combinações das técnicas de pré-processamento, até que o melhor procedimento seja encontrado!\n",
    "\n",
    "**Nomenclatura**: o conjunto de mensagens pré-processadas é chamado de **Corpus**."
   ]
  },
  {
   "cell_type": "markdown",
   "metadata": {},
   "source": [
    "### Vocabulário\n",
    "\n",
    "\n",
    "O vocabulário do corpus nada mais é do que uma listagem das palavras individuais que aparecem no corpus. Para encontrar o vocabulário, basta contarmos a aparição de cada palavra isolada no corpus. Ao fim, teremos N palavras únicas que compõem nosso vocabulário."
   ]
  },
  {
   "cell_type": "code",
   "execution_count": 45,
   "metadata": {},
   "outputs": [
    {
     "name": "stdout",
     "output_type": "stream",
     "text": [
      "\n",
      "O vocabulário é formado por N = 4256 palavras!\n",
      "\n",
      "Temos a seguir as 10 mais comuns, com as respectivas contagens:\n"
     ]
    },
    {
     "data": {
      "text/html": [
       "<div>\n",
       "<style scoped>\n",
       "    .dataframe tbody tr th:only-of-type {\n",
       "        vertical-align: middle;\n",
       "    }\n",
       "\n",
       "    .dataframe tbody tr th {\n",
       "        vertical-align: top;\n",
       "    }\n",
       "\n",
       "    .dataframe thead th {\n",
       "        text-align: right;\n",
       "    }\n",
       "</style>\n",
       "<table border=\"1\" class=\"dataframe\">\n",
       "  <thead>\n",
       "    <tr style=\"text-align: right;\">\n",
       "      <th></th>\n",
       "      <th>palavra</th>\n",
       "      <th>count</th>\n",
       "    </tr>\n",
       "  </thead>\n",
       "  <tbody>\n",
       "    <tr>\n",
       "      <th>6</th>\n",
       "      <td>call</td>\n",
       "      <td>413</td>\n",
       "    </tr>\n",
       "    <tr>\n",
       "      <th>246</th>\n",
       "      <td>free</td>\n",
       "      <td>228</td>\n",
       "    </tr>\n",
       "    <tr>\n",
       "      <th>217</th>\n",
       "      <td>ur</td>\n",
       "      <td>193</td>\n",
       "    </tr>\n",
       "    <tr>\n",
       "      <th>5</th>\n",
       "      <td>get</td>\n",
       "      <td>187</td>\n",
       "    </tr>\n",
       "    <tr>\n",
       "      <th>1222</th>\n",
       "      <td>txt</td>\n",
       "      <td>153</td>\n",
       "    </tr>\n",
       "    <tr>\n",
       "      <th>40</th>\n",
       "      <td>text</td>\n",
       "      <td>152</td>\n",
       "    </tr>\n",
       "    <tr>\n",
       "      <th>487</th>\n",
       "      <td>mobile</td>\n",
       "      <td>136</td>\n",
       "    </tr>\n",
       "    <tr>\n",
       "      <th>57</th>\n",
       "      <td>go</td>\n",
       "      <td>123</td>\n",
       "    </tr>\n",
       "    <tr>\n",
       "      <th>203</th>\n",
       "      <td>stop</td>\n",
       "      <td>122</td>\n",
       "    </tr>\n",
       "    <tr>\n",
       "      <th>423</th>\n",
       "      <td>reply</td>\n",
       "      <td>120</td>\n",
       "    </tr>\n",
       "  </tbody>\n",
       "</table>\n",
       "</div>"
      ],
      "text/plain": [
       "     palavra  count\n",
       "6       call    413\n",
       "246     free    228\n",
       "217       ur    193\n",
       "5        get    187\n",
       "1222     txt    153\n",
       "40      text    152\n",
       "487   mobile    136\n",
       "57        go    123\n",
       "203     stop    122\n",
       "423    reply    120"
      ]
     },
     "metadata": {},
     "output_type": "display_data"
    }
   ],
   "source": [
    "#só pra ter uma ideia do vocabulário, vamos fazer uma lista de listas com o formato:\n",
    "#vocabulario[i] = [palavra, numero_de_aparicoes_no_corpus]\n",
    "\n",
    "vocabulario = []\n",
    "for frase in X:\n",
    "    for palavra in frase.split():\n",
    "        \n",
    "        #não queremos palavras de uma única letra (pode acontecer devido ao stemming...)\n",
    "        if len(palavra) > 1:\n",
    "            if palavra not in [x[0] for x in vocabulario]:\n",
    "                vocabulario.append([palavra, 1])\n",
    "            else:\n",
    "                vocabulario[[x[0] for x in vocabulario].index(palavra)][1] += 1\n",
    "            \n",
    "print(\"\\nO vocabulário é formado por N =\", len(vocabulario), \"palavras!\")\n",
    "\n",
    "#a partir do vocabulário, crio um dataframe com a contagem\n",
    "vocab_count = pd.DataFrame({\"palavra\": [],\n",
    "                            \"count\": []})\n",
    "\n",
    "vocab_count[\"palavra\"] = pd.Series(vocabulario).apply(lambda x: x[0])\n",
    "vocab_count[\"count\"] = pd.Series(vocabulario).apply(lambda x: x[1])\n",
    "vocab_count = vocab_count.sort_values(\"count\", ascending=False)\n",
    "\n",
    "print(\"\\nTemos a seguir as 10 mais comuns, com as respectivas contagens:\")\n",
    "display(vocab_count.head(10))"
   ]
  },
  {
   "cell_type": "markdown",
   "metadata": {},
   "source": [
    "____\n",
    "____\n",
    "____"
   ]
  },
  {
   "cell_type": "markdown",
   "metadata": {},
   "source": [
    "## 4) Modelo de representação: Bag of Words\n",
    "\n",
    "Após estudarmos o vocabulário, vamos efetivamente montar o modelo de bag-of-words. Este modelo funciona da seguinte forma:\n",
    "\n",
    "- Pegue uma frase do corpus;\n",
    "- Crie um vetor N-dimensional de inteiros (onde N é o número de palavras do vocabulário);\n",
    "- Cada componente do vetor corresponde a uma palavra do vocabulário, segundo a ordem que as palavras aparecem no vocabulário.\n",
    "- Preencha esse vetor com zeros (todas suas componentes serão 0);\n",
    "- Para cada palavra da frase, mude a componente correspondente do vetor para 1;\n",
    "- Faça isso para todas as frases do corpus;\n",
    "\n",
    "Ao fim do processo acima para todas as frases do corpus (supomos que sejam M frases), nós empilhamos os respectivos vetores, de modo que teremos uma matriz de M linhas e N colunas. E essa matriz é o modelo final de bag-of-words, que por ser uma matriz numérica, pode ser facilmente usada como input pros modelos de machine learning!\n",
    "\n",
    "Pra exemplificar o procedimento, vamos a um exemplo: suponha que nossa base de treino contenha as seguintes 3 frases **(M = 3)**:\n",
    "\n",
    "[\"Yay can't wait to party together!\",<br>\n",
    " 'You got called a tool?',<br>\n",
    " 'Still chance there. If you search hard you will get it..let have a try :)']\n",
    "\n",
    "Após o pre-processamento inicial das frases, o corpus final fica sendo:\n",
    "\n",
    "['yay cant wait party together',<br>\n",
    " 'get call tool',<br>\n",
    " 'still chance search hard get itlet try']\n",
    "\n",
    "Olhando pro corpus, é fácil ver que nosso vocabulário é:\n",
    "\n",
    "['wait',\n",
    " 'itlet',\n",
    " 'get',\n",
    " 'still',\n",
    " 'search',\n",
    " 'call',\n",
    " 'yay',\n",
    " 'cant',\n",
    " 'together',\n",
    " 'tool',\n",
    " 'hard',\n",
    " 'try',\n",
    " 'chance',\n",
    " 'party']\n",
    "\n",
    "É útil deixarmos o vocabulário em ordem alfabética:\n",
    "\n",
    "['call',\n",
    " 'cant',\n",
    " 'chance',\n",
    " 'get',\n",
    " 'hard',\n",
    " 'itlet',\n",
    " 'party',\n",
    " 'search',\n",
    " 'still',\n",
    " 'together',\n",
    " 'tool',\n",
    " 'try',\n",
    " 'wait',\n",
    " 'yay']\n",
    " \n",
    "Temos **N = 14** palavras no vocabulário. \n",
    "\n",
    "O one-hot encoding de cada uma das frases do corpus irá, então, produzir um **vetor 14-dimensional** de 1 e 0, com 1 nas posições respectivas às palavras no vocabulário. Vamos entender:\n",
    "\n",
    "Para a frase \"yay cant wait party together\", teremos um vetor com o numero 1 nas posições 13, 1, 12, 6, e 9 (respectivamente as posições de \"yay\", \"cant\", \"wait\", \"party\" e \"together\"), de forma que temos o vetor:\n",
    "\n",
    "> \"yay cant wait party together\"\" --> [0, 1, 0, 0, 0, 0, 1, 0, 0, 1, 0, 0, 1, 1]\n",
    "\n",
    "Analogamente, para as outras duas frases, teremos os vetores:\n",
    "\n",
    "> \"get call tool\" --> [1, 0, 0, 1, 0, 0, 0, 0, 0, 0, 1, 0, 0, 0]\n",
    "\n",
    "> \"still chance search hard get itlet try\" --> [0, 0, 1, 1, 1, 1, 0, 1, 1, 0, 0, 1, 0, 0]\n",
    "\n",
    "\n",
    "Finalmente, o modelo de bag-of-words (BoW) final é a **matriz de dimensão 3 x 14 (M = 3 frases no corpus, N = 14 palavras no vocabulário)**, obtida ao empilhar os vetores:\n",
    "  \n",
    "$ BoW = \\begin{pmatrix}\n",
    "0 & 1 & 0 & 0 & 0 & 0 & 1 & 0 & 0 & 1 & 0 & 0 & 1 & 1 \\\\\n",
    "1 & 0 & 0 & 1 & 0 & 0 & 0 & 0 & 0 & 0 & 1 & 0 & 0 & 0 \\\\\n",
    "0 & 0 & 1 & 1 & 1 & 1 & 0 & 1 & 1 & 0 & 0 & 1 & 0 & 0\n",
    "\\end{pmatrix} $\n",
    "\n",
    "Com esse exemplo, esperamos que o procedimento geral tenha ficado bem claro! :)\n",
    "\n",
    "Naturalmente, tanto nosso corpus quanto nosso vocabulário serão muito maiores que os desse exemplo simples. Mas, o procedimento é exatamente o mesmo, e no final, teremos exatamente o mesmo output do modelo de bag-of-words: uma matriz M x N de 0 e 1, prontinha pra ser input dos modelos de machine learning!\n",
    "\n",
    "Para fazer o bag of words propriamente, vamos usar o <a href=https://scikit-learn.org/stable/modules/generated/sklearn.feature_extraction.text.CountVectorizer.html>CountVectorizer</a> do sklearn:"
   ]
  },
  {
   "cell_type": "code",
   "execution_count": 46,
   "metadata": {},
   "outputs": [
    {
     "data": {
      "text/plain": [
       "(1494,)"
      ]
     },
     "execution_count": 46,
     "metadata": {},
     "output_type": "execute_result"
    }
   ],
   "source": [
    "# shape antes do bow\n",
    "X.shape"
   ]
  },
  {
   "cell_type": "code",
   "execution_count": 47,
   "metadata": {},
   "outputs": [],
   "source": [
    "from sklearn.feature_extraction.text import CountVectorizer\n",
    "\n",
    "# instancia a classe do vetorizador\n",
    "# este é diferente do one-hot encoder, pq se tiver duas palavras na mesma frase,\n",
    "# ele dá a contagem!\n",
    "cv = CountVectorizer()\n",
    "\n",
    "# features transformadas\n",
    "# já transformo pra array (matriz)\n",
    "X = cv.fit_transform(X).toarray()"
   ]
  },
  {
   "cell_type": "code",
   "execution_count": 48,
   "metadata": {},
   "outputs": [
    {
     "data": {
      "text/plain": [
       "(1494, 4217)"
      ]
     },
     "execution_count": 48,
     "metadata": {},
     "output_type": "execute_result"
    }
   ],
   "source": [
    "# shape depois do bow\n",
    "X.shape"
   ]
  },
  {
   "cell_type": "markdown",
   "metadata": {},
   "source": [
    "Primeiro, vamos fazer o train-test split"
   ]
  },
  {
   "cell_type": "code",
   "execution_count": 49,
   "metadata": {},
   "outputs": [],
   "source": [
    "from sklearn.model_selection import train_test_split\n",
    "\n",
    "X_train, X_test, y_train, y_test = train_test_split(X, y, test_size=0.2, random_state=42)"
   ]
  },
  {
   "cell_type": "markdown",
   "metadata": {},
   "source": [
    "Agora vamos pros nossos modelos classificadores!"
   ]
  },
  {
   "cell_type": "code",
   "execution_count": 50,
   "metadata": {
    "scrolled": true
   },
   "outputs": [
    {
     "name": "stdout",
     "output_type": "stream",
     "text": [
      "\n",
      "##################################################################\n",
      "\n",
      "Estimador: LogisticRegression() \n",
      "\n",
      "Matriz de confusão do modelo nos dados de teste:\n",
      "\n",
      "[[145   0]\n",
      " [ 16 138]]\n",
      "\n",
      "Matriz de confusão do modelo nos dados de teste:\n",
      "\n",
      "              precision    recall  f1-score   support\n",
      "\n",
      "         ham       0.90      1.00      0.95       145\n",
      "        spam       1.00      0.90      0.95       154\n",
      "\n",
      "    accuracy                           0.95       299\n",
      "   macro avg       0.95      0.95      0.95       299\n",
      "weighted avg       0.95      0.95      0.95       299\n",
      "\n",
      "\n",
      "##################################################################\n",
      "\n",
      "##################################################################\n",
      "\n",
      "Estimador: KNeighborsClassifier() \n",
      "\n",
      "Matriz de confusão do modelo nos dados de teste:\n",
      "\n",
      "[[145   0]\n",
      " [102  52]]\n",
      "\n",
      "Matriz de confusão do modelo nos dados de teste:\n",
      "\n",
      "              precision    recall  f1-score   support\n",
      "\n",
      "         ham       0.59      1.00      0.74       145\n",
      "        spam       1.00      0.34      0.50       154\n",
      "\n",
      "    accuracy                           0.66       299\n",
      "   macro avg       0.79      0.67      0.62       299\n",
      "weighted avg       0.80      0.66      0.62       299\n",
      "\n",
      "\n",
      "##################################################################\n",
      "\n",
      "##################################################################\n",
      "\n",
      "Estimador: DecisionTreeClassifier() \n",
      "\n",
      "Matriz de confusão do modelo nos dados de teste:\n",
      "\n",
      "[[130  15]\n",
      " [ 21 133]]\n",
      "\n",
      "Matriz de confusão do modelo nos dados de teste:\n",
      "\n",
      "              precision    recall  f1-score   support\n",
      "\n",
      "         ham       0.86      0.90      0.88       145\n",
      "        spam       0.90      0.86      0.88       154\n",
      "\n",
      "    accuracy                           0.88       299\n",
      "   macro avg       0.88      0.88      0.88       299\n",
      "weighted avg       0.88      0.88      0.88       299\n",
      "\n",
      "\n",
      "##################################################################\n",
      "\n",
      "##################################################################\n",
      "\n",
      "Estimador: RandomForestClassifier() \n",
      "\n",
      "Matriz de confusão do modelo nos dados de teste:\n",
      "\n",
      "[[145   0]\n",
      " [ 19 135]]\n",
      "\n",
      "Matriz de confusão do modelo nos dados de teste:\n",
      "\n",
      "              precision    recall  f1-score   support\n",
      "\n",
      "         ham       0.88      1.00      0.94       145\n",
      "        spam       1.00      0.88      0.93       154\n",
      "\n",
      "    accuracy                           0.94       299\n",
      "   macro avg       0.94      0.94      0.94       299\n",
      "weighted avg       0.94      0.94      0.94       299\n",
      "\n",
      "\n",
      "##################################################################\n",
      "\n",
      "##################################################################\n",
      "\n",
      "Estimador: AdaBoostClassifier() \n",
      "\n",
      "Matriz de confusão do modelo nos dados de teste:\n",
      "\n",
      "[[136   9]\n",
      " [ 17 137]]\n",
      "\n",
      "Matriz de confusão do modelo nos dados de teste:\n",
      "\n",
      "              precision    recall  f1-score   support\n",
      "\n",
      "         ham       0.89      0.94      0.91       145\n",
      "        spam       0.94      0.89      0.91       154\n",
      "\n",
      "    accuracy                           0.91       299\n",
      "   macro avg       0.91      0.91      0.91       299\n",
      "weighted avg       0.91      0.91      0.91       299\n",
      "\n",
      "\n",
      "##################################################################\n"
     ]
    }
   ],
   "source": [
    "# importando diversos estimadores\n",
    "\n",
    "from sklearn.linear_model import LogisticRegression\n",
    "lr = LogisticRegression()\n",
    "\n",
    "from sklearn.neighbors import KNeighborsClassifier\n",
    "knn = KNeighborsClassifier()\n",
    "\n",
    "from sklearn.tree import DecisionTreeClassifier\n",
    "dt = DecisionTreeClassifier()\n",
    "\n",
    "from sklearn.ensemble import RandomForestClassifier\n",
    "rf = RandomForestClassifier()\n",
    "\n",
    "from sklearn.ensemble import AdaBoostClassifier\n",
    "ab = AdaBoostClassifier()\n",
    "\n",
    "# métricas de avaliação\n",
    "from sklearn.metrics import classification_report, confusion_matrix\n",
    "\n",
    "# lista com os estimadores\n",
    "estimadores = [lr, knn, dt, rf, ab]\n",
    "\n",
    "# dicionário com os modelos treinados\n",
    "modelos = {}\n",
    "\n",
    "for estimador in estimadores:\n",
    "    \n",
    "    print(\"\\n##################################################################\\n\")\n",
    "    \n",
    "    print(\"Estimador:\", estimador, \"\\n\")\n",
    "    \n",
    "    # treinando o modelo\n",
    "    modelo = estimador.fit(X_train,y_train)\n",
    "    \n",
    "    # adicionando os modelos ao dic\n",
    "    modelos[str(estimador)] = modelo\n",
    "    \n",
    "    # fazendo predições\n",
    "    y_pred = modelo.predict(X_test)\n",
    "\n",
    "    print(\"Matriz de confusão do modelo nos dados de teste:\\n\")\n",
    "    print(confusion_matrix(y_test, y_pred))\n",
    "\n",
    "    print(\"\\nMatriz de confusão do modelo nos dados de teste:\\n\")\n",
    "    print(classification_report(y_test, y_pred))\n",
    "    \n",
    "    print(\"\\n##################################################################\")"
   ]
  },
  {
   "cell_type": "code",
   "execution_count": 51,
   "metadata": {},
   "outputs": [],
   "source": [
    "frase = \"congratulations!!! you won 1 million dollars! send your credit card password\""
   ]
  },
  {
   "cell_type": "code",
   "execution_count": 52,
   "metadata": {},
   "outputs": [],
   "source": [
    "exemplo = pd.Series([frase])"
   ]
  },
  {
   "cell_type": "code",
   "execution_count": 53,
   "metadata": {},
   "outputs": [],
   "source": [
    "exemplo = pre_process_pipeline(exemplo)"
   ]
  },
  {
   "cell_type": "code",
   "execution_count": 54,
   "metadata": {},
   "outputs": [],
   "source": [
    "exemplo_numerizado = cv.transform(exemplo).toarray()"
   ]
  },
  {
   "cell_type": "code",
   "execution_count": 55,
   "metadata": {},
   "outputs": [
    {
     "data": {
      "text/plain": [
       "array([[0.59959953, 0.40040047]])"
      ]
     },
     "execution_count": 55,
     "metadata": {},
     "output_type": "execute_result"
    }
   ],
   "source": [
    "modelos['LogisticRegression()'].predict_proba(exemplo_numerizado)"
   ]
  },
  {
   "cell_type": "markdown",
   "metadata": {},
   "source": [
    "___\n",
    "___\n",
    "___"
   ]
  },
  {
   "cell_type": "markdown",
   "metadata": {},
   "source": [
    "## 5) Modelo de representação: TF-IDF\n",
    "\n",
    "Ao invés de usarmos o CountVectorizer que mostra o número de ocorrências de uma palavra, podemos substituir por um valor que consiga representar a \"importância\" da palavra dentro do documento.<br>\n",
    "\n",
    "**TF-IDF é uma medida estatística que avalia o quão relevante uma palavra é para um documento em um corpus**.\n",
    "\n",
    "Isto é feito multilicando-se duas métricas:\n",
    "\n",
    "> Tf : Quantas vezes a palavra aparece no documento;\n",
    "\n",
    "> Idf : O inverso da frequencia do da palavra através de todos os documentos.\n",
    "\n",
    "Para utilizar o tf-idf, basta usar a classe [TfidfVectorizer do sklearn](https://scikit-learn.org/stable/modules/generated/sklearn.feature_extraction.text.TfidfVectorizer.html)"
   ]
  },
  {
   "cell_type": "code",
   "execution_count": 56,
   "metadata": {},
   "outputs": [],
   "source": [
    "# redefinindo os dados\n",
    "\n",
    "df = df_resamp.copy()\n",
    "\n",
    "X = df[\"text\"]\n",
    "y = df[\"type\"]\n",
    "\n",
    "X = pre_process_pipeline(X, remove_stopwords=False)\n",
    "\n",
    "#########################################################################\n",
    "\n",
    "from sklearn.feature_extraction.text import TfidfVectorizer\n",
    "\n",
    "# vetorizador tfidf\n",
    "tfidf = TfidfVectorizer()\n",
    "\n",
    "# features transformadas\n",
    "# já transformo pra array (matriz)\n",
    "X = tfidf.fit_transform(X).toarray()\n",
    "\n",
    "#########################################################################\n",
    "\n",
    "from sklearn.model_selection import train_test_split\n",
    "\n",
    "X_train, X_test, y_train, y_test = train_test_split(X, y, test_size=0.2, random_state=42)"
   ]
  },
  {
   "cell_type": "markdown",
   "metadata": {},
   "source": [
    "Vamos ver como esta mudança no modelo de representação dos dados altera a performance do modelo classificador:"
   ]
  },
  {
   "cell_type": "code",
   "execution_count": 57,
   "metadata": {
    "scrolled": false
   },
   "outputs": [
    {
     "name": "stdout",
     "output_type": "stream",
     "text": [
      "\n",
      "##################################################################\n",
      "\n",
      "Estimador: LogisticRegression() \n",
      "\n",
      "Matriz de confusão do modelo nos dados de teste:\n",
      "\n",
      "[[142   3]\n",
      " [ 13 141]]\n",
      "\n",
      "Matriz de confusão do modelo nos dados de teste:\n",
      "\n",
      "              precision    recall  f1-score   support\n",
      "\n",
      "         ham       0.92      0.98      0.95       145\n",
      "        spam       0.98      0.92      0.95       154\n",
      "\n",
      "    accuracy                           0.95       299\n",
      "   macro avg       0.95      0.95      0.95       299\n",
      "weighted avg       0.95      0.95      0.95       299\n",
      "\n",
      "\n",
      "##################################################################\n",
      "\n",
      "##################################################################\n",
      "\n",
      "Estimador: KNeighborsClassifier() \n",
      "\n",
      "Matriz de confusão do modelo nos dados de teste:\n",
      "\n",
      "[[142   3]\n",
      " [ 16 138]]\n",
      "\n",
      "Matriz de confusão do modelo nos dados de teste:\n",
      "\n",
      "              precision    recall  f1-score   support\n",
      "\n",
      "         ham       0.90      0.98      0.94       145\n",
      "        spam       0.98      0.90      0.94       154\n",
      "\n",
      "    accuracy                           0.94       299\n",
      "   macro avg       0.94      0.94      0.94       299\n",
      "weighted avg       0.94      0.94      0.94       299\n",
      "\n",
      "\n",
      "##################################################################\n",
      "\n",
      "##################################################################\n",
      "\n",
      "Estimador: DecisionTreeClassifier() \n",
      "\n",
      "Matriz de confusão do modelo nos dados de teste:\n",
      "\n",
      "[[135  10]\n",
      " [ 15 139]]\n",
      "\n",
      "Matriz de confusão do modelo nos dados de teste:\n",
      "\n",
      "              precision    recall  f1-score   support\n",
      "\n",
      "         ham       0.90      0.93      0.92       145\n",
      "        spam       0.93      0.90      0.92       154\n",
      "\n",
      "    accuracy                           0.92       299\n",
      "   macro avg       0.92      0.92      0.92       299\n",
      "weighted avg       0.92      0.92      0.92       299\n",
      "\n",
      "\n",
      "##################################################################\n",
      "\n",
      "##################################################################\n",
      "\n",
      "Estimador: RandomForestClassifier() \n",
      "\n",
      "Matriz de confusão do modelo nos dados de teste:\n",
      "\n",
      "[[143   2]\n",
      " [ 15 139]]\n",
      "\n",
      "Matriz de confusão do modelo nos dados de teste:\n",
      "\n",
      "              precision    recall  f1-score   support\n",
      "\n",
      "         ham       0.91      0.99      0.94       145\n",
      "        spam       0.99      0.90      0.94       154\n",
      "\n",
      "    accuracy                           0.94       299\n",
      "   macro avg       0.95      0.94      0.94       299\n",
      "weighted avg       0.95      0.94      0.94       299\n",
      "\n",
      "\n",
      "##################################################################\n",
      "\n",
      "##################################################################\n",
      "\n",
      "Estimador: AdaBoostClassifier() \n",
      "\n",
      "Matriz de confusão do modelo nos dados de teste:\n",
      "\n",
      "[[129  16]\n",
      " [ 14 140]]\n",
      "\n",
      "Matriz de confusão do modelo nos dados de teste:\n",
      "\n",
      "              precision    recall  f1-score   support\n",
      "\n",
      "         ham       0.90      0.89      0.90       145\n",
      "        spam       0.90      0.91      0.90       154\n",
      "\n",
      "    accuracy                           0.90       299\n",
      "   macro avg       0.90      0.90      0.90       299\n",
      "weighted avg       0.90      0.90      0.90       299\n",
      "\n",
      "\n",
      "##################################################################\n"
     ]
    }
   ],
   "source": [
    "# importando diversos estimadores\n",
    "\n",
    "from sklearn.linear_model import LogisticRegression\n",
    "lr = LogisticRegression()\n",
    "\n",
    "from sklearn.neighbors import KNeighborsClassifier\n",
    "knn = KNeighborsClassifier()\n",
    "\n",
    "from sklearn.tree import DecisionTreeClassifier\n",
    "dt = DecisionTreeClassifier()\n",
    "\n",
    "from sklearn.ensemble import RandomForestClassifier\n",
    "rf = RandomForestClassifier()\n",
    "\n",
    "from sklearn.ensemble import AdaBoostClassifier\n",
    "ab = AdaBoostClassifier()\n",
    "\n",
    "# métricas de avaliação\n",
    "from sklearn.metrics import classification_report, confusion_matrix\n",
    "\n",
    "# lista com os estimadores\n",
    "estimadores = [lr, knn, dt, rf, ab]\n",
    "\n",
    "# dicionário com os modelos treinados\n",
    "modelos = {}\n",
    "\n",
    "for estimador in estimadores:\n",
    "    \n",
    "    print(\"\\n##################################################################\\n\")\n",
    "    \n",
    "    print(\"Estimador:\", estimador, \"\\n\")\n",
    "    \n",
    "    # treinando o modelo\n",
    "    modelo = estimador.fit(X_train,y_train)\n",
    "    \n",
    "    # adicionando os modelos ao dic\n",
    "    modelos[str(estimador)] = modelo\n",
    "    \n",
    "    # fazendo predições\n",
    "    y_pred = modelo.predict(X_test)\n",
    "\n",
    "    print(\"Matriz de confusão do modelo nos dados de teste:\\n\")\n",
    "    print(confusion_matrix(y_test, y_pred))\n",
    "\n",
    "    print(\"\\nMatriz de confusão do modelo nos dados de teste:\\n\")\n",
    "    print(classification_report(y_test, y_pred))\n",
    "    \n",
    "    print(\"\\n##################################################################\")"
   ]
  },
  {
   "cell_type": "markdown",
   "metadata": {},
   "source": [
    "Além de ser útil como um modelo de representação, o tf-idf encontra uso extenso para mecanismos de buscas e assuntos de Information Retrieval, porque esta representação é capaz de encontrar as palavras mais discriminantes em um documento."
   ]
  },
  {
   "cell_type": "markdown",
   "metadata": {},
   "source": [
    "______\n",
    "______\n",
    "______"
   ]
  },
  {
   "cell_type": "markdown",
   "metadata": {},
   "source": [
    "## 6) Curva AUC-ROC (AUROC)\n",
    "\n",
    "Veremos agora uma outra métrica de avaliação de modelos de classificação, que é a **AUC (Area Under The Curve) da curva ROC (Receiver Operating Characteristics)**, por vezes chamada de **AUROC (Area Under the Receiver Operating Characteristics)**\n",
    "\n",
    "A curva **ROC é uma curva de probabilidade**, sendo que **AUC é a área sob a curva**, representando **o grau de separabilidade atingido pelo modelo**.\n",
    "\n",
    "Ou seja, esta medida nos diz **o quanto o modelo é capaz de distinguir entre duas classes**.\n",
    "\n",
    "A curva ROC é construída com a **taxa de falsos positivos** no eixo x, e a **taxa de verdadeiros positivos** no eixo y, para diferentes **thresholds de classificação**:\n",
    "\n",
    "<img src=\"https://miro.medium.com/max/1175/1*2nd7NTEBosPakccmLVWy9A.png\" width=500>\n",
    "\n",
    "O valor do AUC-ROC sempre estará **entre 0 e 1**, sendo que **quanto mais próximo de 1, melhor o modelo**.\n",
    "\n",
    "> Valores de AUC-ROC maiores que 0.5 (mais próximos de 1) significam que o modelo tem uma **taxa de veridadeiros positivos maior que a taxa de falsos positivos**, ou seja, o modelo está acertando mais!\n",
    "\n",
    "Quanto **mais próximo de 0** (para valores abaixo de 0.5), teremos um modelo que faz um bom trabalho em separar as classes, mas as classifica erroneamente.\n",
    "\n",
    "E, quanto **mas próximo de 0.5**, pior é o modelo em separar as classes: seria um modelo que simplesmente chuta aleatoriamente ora a classe 0, ora a classe 1. Veja as imagens a seguir para uma ilustração:\n",
    "\n",
    "<img src=\"https://miro.medium.com/max/528/1*Uu-t4pOotRQFoyrfqEvIEg.png\" width=500>\n",
    "\n",
    "\n",
    "<img src=\"https://miro.medium.com/max/507/1*yF8hvKR9eNfqqej2JnVKzg.png\" width=500>\n",
    "\n",
    "\n",
    "<img src=\"https://miro.medium.com/max/430/1*iLW_BrJZRI0UZSflfMrmZQ.png\" width=500>\n",
    "\n",
    "\n",
    "<img src=\"https://miro.medium.com/max/556/1*aUZ7H-Lw74KSucoLlj1pgw.png\" width=500>\n",
    "\n",
    "Ao olhar para a curva em si, temos a seguinte interpretação:\n",
    "\n",
    "<img src=\"https://i.ytimg.com/vi/J9l8J1MeCbY/hqdefault.jpg\" width=400>\n",
    "\n",
    "Para aprender mais sobre a construção da curva ROC, sugiro [este StatQuest!](https://www.youtube.com/watch?v=4jRBRDbJemM)"
   ]
  },
  {
   "cell_type": "code",
   "execution_count": 58,
   "metadata": {},
   "outputs": [
    {
     "data": {
      "image/png": "[encoded data removed]",
      "text/plain": [
       "<Figure size 432x288 with 1 Axes>"
      ]
     },
     "metadata": {
      "needs_background": "light"
     },
     "output_type": "display_data"
    }
   ],
   "source": [
    "from sklearn.metrics import roc_curve, roc_auc_score\n",
    "\n",
    "# mudando o target (é necessário para o cálculo da ROC)\n",
    "y_test = y_test.apply(lambda x: 0 if x == \"ham\" else 1)\n",
    "\n",
    "# nome do modelo\n",
    "nome_modelo = \"LogisticRegression()\"\n",
    "\n",
    "# pegando o modelo\n",
    "modelo = modelos[nome_modelo]\n",
    "\n",
    "# calculando os scores do modelo\n",
    "y_score = modelo.predict_proba(X_test)[:, 1]\n",
    "\n",
    "# pegando as taxas fpr e tpr\n",
    "fpr, tpr, _ = roc_curve(y_test, y_score, pos_label = 1)\n",
    "\n",
    "# calculando o auc_roc\n",
    "score = roc_auc_score(y_test, y_score)\n",
    "\n",
    "# plotando a curva roc\n",
    "plt.figure()\n",
    "plt.title('Curva ROC para o modelo ' + nome_modelo)\n",
    "\n",
    "plt.plot(fpr, tpr, color='darkorange', lw=2, label='Curva ROC; AUC = %0.2f)' % score)\n",
    "plt.plot([0, 1], [0, 1], color='navy', lw=2, linestyle='--')\n",
    "\n",
    "plt.xlim([0.0, 1.0])\n",
    "plt.ylim([0.0, 1.05])\n",
    "plt.xlabel('False Positive Rate')\n",
    "plt.ylabel('True Positive Rate')\n",
    "\n",
    "plt.legend(loc=\"lower right\")\n",
    "plt.show()"
   ]
  },
  {
   "cell_type": "markdown",
   "metadata": {},
   "source": [
    "Um grande uso da curva ROC é na **comparação entre diferentes modelos**:"
   ]
  },
  {
   "cell_type": "code",
   "execution_count": 59,
   "metadata": {},
   "outputs": [
    {
     "data": {
      "image/png": "[encoded data removed]",
      "text/plain": [
       "<Figure size 720x360 with 1 Axes>"
      ]
     },
     "metadata": {
      "needs_background": "light"
     },
     "output_type": "display_data"
    }
   ],
   "source": [
    "from sklearn.metrics import roc_curve, roc_auc_score\n",
    "\n",
    "plt.figure(figsize=(10, 5))\n",
    "plt.title('Curva ROC comparativa entre os modelos')\n",
    "\n",
    "for nome_modelo in modelos.keys():\n",
    "    \n",
    "    # pegando o modelo\n",
    "    modelo = modelos[nome_modelo]\n",
    "\n",
    "    # calculando os scores do modelo\n",
    "    y_score = modelo.predict_proba(X_test)[:, 1]\n",
    "\n",
    "    # pegando as taxas fpr e tpr\n",
    "    fpr, tpr, _ = roc_curve(y_test, y_score, pos_label = 1)\n",
    "\n",
    "    # calculando o auc_roc\n",
    "    score = roc_auc_score(y_test, y_score)\n",
    "\n",
    "    label = \"Curva ROC para o \" + nome_modelo + \"; AUC = \" + str(round(score, 2))\n",
    "    plt.plot(fpr, tpr, lw=2, label=label)\n",
    "    \n",
    "plt.plot([0, 1], [0, 1], color='navy', lw=2, linestyle='--')\n",
    "\n",
    "plt.xlim([0.0, 1.0])\n",
    "plt.ylim([0.0, 1.05])\n",
    "plt.xlabel('False Positive Rate')\n",
    "plt.ylabel('True Positive Rate')\n",
    "\n",
    "plt.legend(frameon=True, bbox_to_anchor=(1, 0.5), loc=\"center left\")\n",
    "\n",
    "plt.show()"
   ]
  },
  {
   "cell_type": "markdown",
   "metadata": {},
   "source": [
    "___\n",
    "___\n",
    "___"
   ]
  },
  {
   "cell_type": "markdown",
   "metadata": {},
   "source": [
    "### Quer saber mais?\n",
    "\n",
    "[Tokenization](https://www.geeksforgeeks.org/nlp-how-tokenizing-text-sentence-words-works/)<br>\n",
    "[Stemming vs Lemmatization](https://www.datacamp.com/community/tutorials/stemming-lemmatization-python)<br>\n",
    "[TF-IDF](http://www.tfidf.com/)<br>\n",
    "[Embeddings](https://medium.com/nwamaka-imasogie/neural-networks-word-embeddings-8ec8b3845b2e)<br>\n",
    "[AUC-ROC](https://www.analyticsvidhya.com/blog/2020/06/auc-roc-curve-machine-learning/)"
   ]
  }
 ],
 "metadata": {
  "kernelspec": {
   "display_name": "Python 3",
   "language": "python",
   "name": "python3"
  },
  "language_info": {
   "codemirror_mode": {
    "name": "ipython",
    "version": 3
   },
   "file_extension": ".py",
   "mimetype": "text/x-python",
   "name": "python",
   "nbconvert_exporter": "python",
   "pygments_lexer": "ipython3",
   "version": "3.7.6"
  }
 },
 "nbformat": 4,
 "nbformat_minor": 2
}
